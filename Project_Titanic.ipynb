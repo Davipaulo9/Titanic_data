{
 "cells": [
  {
   "cell_type": "markdown",
   "metadata": {},
   "source": [
    "## Project 4 - UDACITY_NANODEGREE_FUNDAMENTALS_OF DATA_SCIENCE\n",
    "\n",
    "The sinking of the RMS Titanic is one of the most infamous shipwrecks in history.  On April 15, 1912, during her maiden voyage, the Titanic sank after colliding with an iceberg, killing 1502 out of 2224 passengers and crew. This sensational tragedy shocked the international community and led to better safety regulations for ships.\n",
    "\n",
    "One of the reasons that the shipwreck led to such loss of life was that there were not enough lifeboats for the passengers and crew. Although there was some element of luck involved in surviving the sinking, some groups of people were more likely to survive than others, such as women, children, and the upper-class.\n",
    "\n",
    "In this challenge, we ask you to complete the analysis of what sorts of people were likely to survive. In particular, we ask you to apply the tools of machine learning to predict which passengers survived the tragedy.\n",
    "#Quais foram os fatores que fizeram com que algumas pessoas fossem mais propensas a sobreviver?\n",
    "\n",
    "References:\n",
    "#- https://www.kaggle.com/c/titanic\n",
    "#- http://www.chasingthefrog.com/reelfaces/titanic.php"
   ]
  },
  {
   "cell_type": "code",
   "execution_count": 3,
   "metadata": {},
   "outputs": [
    {
     "data": {
      "text/html": [
       "<script type=\"text/javascript\">window.PlotlyConfig = {MathJaxConfig: 'local'};</script><script type=\"text/javascript\">if (window.MathJax) {MathJax.Hub.Config({SVG: {font: \"STIX-Web\"}});}</script><script>requirejs.config({paths: { 'plotly': ['https://cdn.plot.ly/plotly-latest.min']},});if(!window._Plotly) {require(['plotly'],function(plotly) {window._Plotly=plotly;});}</script>"
      ],
      "text/vnd.plotly.v1+html": [
       "<script type=\"text/javascript\">window.PlotlyConfig = {MathJaxConfig: 'local'};</script><script type=\"text/javascript\">if (window.MathJax) {MathJax.Hub.Config({SVG: {font: \"STIX-Web\"}});}</script><script>requirejs.config({paths: { 'plotly': ['https://cdn.plot.ly/plotly-latest.min']},});if(!window._Plotly) {require(['plotly'],function(plotly) {window._Plotly=plotly;});}</script>"
      ]
     },
     "metadata": {},
     "output_type": "display_data"
    }
   ],
   "source": [
    "#Load libraries\n",
    "import pandas as pd\n",
    "import numpy as np\n",
    "import re\n",
    "import sklearn\n",
    "import seaborn as sns\n",
    "import matplotlib.pyplot as plt\n",
    "%matplotlib inline\n",
    "import plotly.offline as py\n",
    "py.init_notebook_mode(connected=True)\n",
    "import plotly.graph_objs as go\n",
    "import plotly.tools as tls\n",
    "import warnings\n",
    "warnings.filterwarnings('ignore')"
   ]
  },
  {
   "cell_type": "markdown",
   "metadata": {},
   "source": [
    "#Importing Dataset"
   ]
  },
  {
   "cell_type": "code",
   "execution_count": 4,
   "metadata": {},
   "outputs": [],
   "source": [
    "df = pd.read_csv('train.csv')"
   ]
  },
  {
   "cell_type": "markdown",
   "metadata": {},
   "source": [
    "#Checking rows and columns"
   ]
  },
  {
   "cell_type": "code",
   "execution_count": 5,
   "metadata": {},
   "outputs": [
    {
     "data": {
      "text/plain": [
       "(891, 12)"
      ]
     },
     "execution_count": 5,
     "metadata": {},
     "output_type": "execute_result"
    }
   ],
   "source": [
    "df.shape"
   ]
  },
  {
   "cell_type": "markdown",
   "metadata": {},
   "source": [
    "#Lets visualize  the first 5 entries of data"
   ]
  },
  {
   "cell_type": "code",
   "execution_count": 6,
   "metadata": {},
   "outputs": [
    {
     "data": {
      "text/html": [
       "<div>\n",
       "<style scoped>\n",
       "    .dataframe tbody tr th:only-of-type {\n",
       "        vertical-align: middle;\n",
       "    }\n",
       "\n",
       "    .dataframe tbody tr th {\n",
       "        vertical-align: top;\n",
       "    }\n",
       "\n",
       "    .dataframe thead th {\n",
       "        text-align: right;\n",
       "    }\n",
       "</style>\n",
       "<table border=\"1\" class=\"dataframe\">\n",
       "  <thead>\n",
       "    <tr style=\"text-align: right;\">\n",
       "      <th></th>\n",
       "      <th>PassengerId</th>\n",
       "      <th>Survived</th>\n",
       "      <th>Pclass</th>\n",
       "      <th>Name</th>\n",
       "      <th>Sex</th>\n",
       "      <th>Age</th>\n",
       "      <th>SibSp</th>\n",
       "      <th>Parch</th>\n",
       "      <th>Ticket</th>\n",
       "      <th>Fare</th>\n",
       "      <th>Cabin</th>\n",
       "      <th>Embarked</th>\n",
       "    </tr>\n",
       "  </thead>\n",
       "  <tbody>\n",
       "    <tr>\n",
       "      <th>0</th>\n",
       "      <td>1</td>\n",
       "      <td>0</td>\n",
       "      <td>3</td>\n",
       "      <td>Braund, Mr. Owen Harris</td>\n",
       "      <td>male</td>\n",
       "      <td>22.0</td>\n",
       "      <td>1</td>\n",
       "      <td>0</td>\n",
       "      <td>A/5 21171</td>\n",
       "      <td>7.2500</td>\n",
       "      <td>NaN</td>\n",
       "      <td>S</td>\n",
       "    </tr>\n",
       "    <tr>\n",
       "      <th>1</th>\n",
       "      <td>2</td>\n",
       "      <td>1</td>\n",
       "      <td>1</td>\n",
       "      <td>Cumings, Mrs. John Bradley (Florence Briggs Th...</td>\n",
       "      <td>female</td>\n",
       "      <td>38.0</td>\n",
       "      <td>1</td>\n",
       "      <td>0</td>\n",
       "      <td>PC 17599</td>\n",
       "      <td>71.2833</td>\n",
       "      <td>C85</td>\n",
       "      <td>C</td>\n",
       "    </tr>\n",
       "    <tr>\n",
       "      <th>2</th>\n",
       "      <td>3</td>\n",
       "      <td>1</td>\n",
       "      <td>3</td>\n",
       "      <td>Heikkinen, Miss. Laina</td>\n",
       "      <td>female</td>\n",
       "      <td>26.0</td>\n",
       "      <td>0</td>\n",
       "      <td>0</td>\n",
       "      <td>STON/O2. 3101282</td>\n",
       "      <td>7.9250</td>\n",
       "      <td>NaN</td>\n",
       "      <td>S</td>\n",
       "    </tr>\n",
       "    <tr>\n",
       "      <th>3</th>\n",
       "      <td>4</td>\n",
       "      <td>1</td>\n",
       "      <td>1</td>\n",
       "      <td>Futrelle, Mrs. Jacques Heath (Lily May Peel)</td>\n",
       "      <td>female</td>\n",
       "      <td>35.0</td>\n",
       "      <td>1</td>\n",
       "      <td>0</td>\n",
       "      <td>113803</td>\n",
       "      <td>53.1000</td>\n",
       "      <td>C123</td>\n",
       "      <td>S</td>\n",
       "    </tr>\n",
       "    <tr>\n",
       "      <th>4</th>\n",
       "      <td>5</td>\n",
       "      <td>0</td>\n",
       "      <td>3</td>\n",
       "      <td>Allen, Mr. William Henry</td>\n",
       "      <td>male</td>\n",
       "      <td>35.0</td>\n",
       "      <td>0</td>\n",
       "      <td>0</td>\n",
       "      <td>373450</td>\n",
       "      <td>8.0500</td>\n",
       "      <td>NaN</td>\n",
       "      <td>S</td>\n",
       "    </tr>\n",
       "  </tbody>\n",
       "</table>\n",
       "</div>"
      ],
      "text/plain": [
       "   PassengerId  Survived  Pclass  \\\n",
       "0            1         0       3   \n",
       "1            2         1       1   \n",
       "2            3         1       3   \n",
       "3            4         1       1   \n",
       "4            5         0       3   \n",
       "\n",
       "                                                Name     Sex   Age  SibSp  \\\n",
       "0                            Braund, Mr. Owen Harris    male  22.0      1   \n",
       "1  Cumings, Mrs. John Bradley (Florence Briggs Th...  female  38.0      1   \n",
       "2                             Heikkinen, Miss. Laina  female  26.0      0   \n",
       "3       Futrelle, Mrs. Jacques Heath (Lily May Peel)  female  35.0      1   \n",
       "4                           Allen, Mr. William Henry    male  35.0      0   \n",
       "\n",
       "   Parch            Ticket     Fare Cabin Embarked  \n",
       "0      0         A/5 21171   7.2500   NaN        S  \n",
       "1      0          PC 17599  71.2833   C85        C  \n",
       "2      0  STON/O2. 3101282   7.9250   NaN        S  \n",
       "3      0            113803  53.1000  C123        S  \n",
       "4      0            373450   8.0500   NaN        S  "
      ]
     },
     "execution_count": 6,
     "metadata": {},
     "output_type": "execute_result"
    }
   ],
   "source": [
    "df.head()"
   ]
  },
  {
   "cell_type": "markdown",
   "metadata": {},
   "source": [
    "#1 Quantos passageiros havia em cada classe do navio?\n",
    "#2 Quantos adultos haviam no navio?\n",
    "#3 Quantas crianças haviam a bordo do navio?\n",
    "#4 Quantas mulheres e homens haviam a bordo?\n",
    "#5 Quantas vidas foram salvas?\n",
    "#6 Quantas vidas foram perdidas?\n",
    "#7 Quantos passageiros embarcaram em cada porto?\n",
    "#8 Quantos passageiros embarcaram em cada classe em cada porto?\n",
    "#9 Qual a média das idades das mulheres?\n",
    "#10 Qual a média das idades dos homens?\n",
    "#11 Qual a idade da mulher mais idosa?\n",
    "#12 Qual a idade do homem mais idoso?12\n",
    "#13 Quantos homens sobreviveram?\n",
    "#14 Quantas mulheres sobreviveram? \n",
    "#15 Quantos eram garotos?\n",
    "#16 Quantos eram garotas?\n",
    "#17 Qual era a porcentagem de crianças?\n",
    "#18 Qual era a procentagem de mulheres?\n",
    "#19 Qual era a procentagem de homens?\n",
    "#20 Quantas crianças foram salvas?\n",
    "#21 Quantas garotos foram salvas?\n",
    "#22 Quantas garotas foram salvas?\n",
    " \n",
    "# Let's find the survivors by classes\n",
    "\n",
    "#23 Quantas mulheres da primeira classe sobreviveram?\n",
    "#24 Quantas mulheres da segunda classe sobreviveram?\n",
    "#25 Quantas mulheres da terceira classe sobreviveram?\n",
    "#26 Quantos homens da primeira classe sobreviveram?\n",
    "#27 Quantos homens da segunda classe sobreviveram?\n",
    "#28 Quantos homens da terceira classe sobreviveram?\n",
    "\n",
    "\n",
    "#29 Quantas garotas da primeira classe sobreviveram?\n",
    "#30 Quantas garotas da segunda classe sobreviveram?\n",
    "#31 Quantas garotas da terceira classe sobreviveram?\n",
    "#32 Quantas garotos da terceira classe sobreviveram?\n",
    "#33 Quantas garotos da terceira classe sobreviveram?\n",
    "#34 Quantas garotos da terceira classe sobreviveram?\n",
    "\n",
    "#35 Vamos visualizar os sobreviventes por idade\n",
    "#36 Sobreviventes baseados no preço do ticket\n",
    "#37 Visualizar sobreviventes por genero\n",
    "\n",
    "# Adults\n",
    "#38 How many Adults Females survived from the 1st Class that board in Queenstown?\n",
    "#39 How many Adults Females survived from the 1st Class that board in Cherborough? \n",
    "#40 How many Adults Females survived from the 1st Class that board in Southhampton?\n",
    "#41 How many Adults Females survived from the 2nd Class that board in Queenstown?\n",
    "#42 How many Adults Females that survived from the 2nd Class board in Cherborough?\n",
    "#43 How many Adults Females that survived from the 1st Class board in Queenstown?\n",
    "#44 How many Adults Females that survived from the 3rd Class board in Queenstown?\n",
    "#45 How many Adults Females that survived from the 3rd Class board in Cherborough?\n",
    "#46 How many Adults Females that survived from the 3rd Class board in Queenstown?\n",
    "#47 How many Adults Males that survived from the 1st Class board in Queenstown?\n",
    "#48 How many Adults Males that survived from the 1st Class board in Cherborough?\n",
    "#49 How many Adults Males that survived from the 1st Class board in Southhampton?\n",
    "#50 How many Adults Males that survived from the 2nd Class board in Queenstown?\n",
    "#51 How many Adults Males that survived from the 2nd Class board in Queenstown? \n",
    "#52 How many Adults Males that survived from the 1st Class board in Queenstown? \n",
    "#53 How many Adults Males that survived from the 3rd Class board in Queenstown?\n",
    "#54 How many Adults Males that survived from the 3rd Class board in Cherborough?\n",
    "#55 How many Adults Males that survived from the 3rd Class board in Queenstown?\n",
    "\n",
    "\n",
    "# Children\n",
    "#56 How many girls that survived from the 1st Class board in Queenstown? \n",
    "#57 How many girls that survived from the 2nd Class board in Cherborough?\n",
    "#58 How many girls that survived from the 1st Class that in Queenstown? \n",
    "#59 How many girls that survived from the 2nd Class board in Queenstown?\n",
    "#60 How many girls that survived from the 2nd Class board in Cherborough?\n",
    "#61 How many girls that survived from the 2nd Class board in Southhampton?\n",
    "#62 How many girls that survived from the 2nd Class that board in Queenstown? \n",
    "#63 How many girls that survived from the 2nd Class board in Cherborough?\n",
    "#64 How many girls that survived from the 2nd Class board in Queenstown?\n",
    "#65 How many boys that survived from the 1st Class board in Queenstown?\n",
    "#66 How many boys that survived from the 1st Class that in Cherborough?\n",
    "#67 How many boys that survived from the 1st Class board in Queenstown?\n",
    "#68 How many boys that survived from the 2nd Class board in Queenstown? \n",
    "#69 How many boys that survived from the 2nd Class that in Cherborough?\n",
    "#70 How many boys that survived from the 2nd Class board in Southhampton?\n",
    "#71 How many boys that survived from the 2nd Class board in Queenstown? \n",
    "#72 How many boys that survived from the 2nd Class that in Cherborough?\n",
    "#73 How many boys that survived from the 2nd Class board in Queenstown?\n",
    "\n",
    "#74 Qual a idade média dos sobreviventes do naufrágio?\n",
    "#75 Qual a idade média das vítimas do naufrágio?\n",
    "#76 Qual a idade do sobrevivente mais novo?\n",
    "#77 Qual a idade da vítima mais nova?\n",
    "#78 Qual a idade do sobrevivente mais idoso?\n",
    "#79 Qual a idade da vítima mais idosa?\n",
    "#77 Qual a idade do sobrevivente mais idoso?\n",
    "#78 Qual a idade da vítima mais idosa?\n",
    "#79 Qual a porcentagem de sobreviventes em cada classe do navio?\n",
    "#80 Qual a porcentagem de sobreviventes entre as crianças?\n",
    "#81 Qual a porcentagem de sobreviventes entre as mulheres?\n",
    "#82 Qual a porcentagem de sobreviventes entre os homens?\n",
    "#83 Qual a porcentagem de sobreviventes entre os idosos?\n",
    "#84 Qual a porcentagem de sobreviventes entre os que viajavam com a família?\n",
    "#86 Qual o valor médio dos tíquetes de sobreviventes em cada classe do navio?\n",
    "\n"
   ]
  },
  {
   "cell_type": "markdown",
   "metadata": {},
   "source": [
    "#Let's clean the data since we have lots of missing information"
   ]
  },
  {
   "cell_type": "markdown",
   "metadata": {},
   "source": [
    "# Limpeza de dados"
   ]
  },
  {
   "cell_type": "markdown",
   "metadata": {},
   "source": [
    "#Converter colunas Float para Int\n",
    "#Preencher dados vazios\n",
    "#Remover valores vazios da coluna Embarked"
   ]
  },
  {
   "cell_type": "code",
   "execution_count": 7,
   "metadata": {},
   "outputs": [
    {
     "data": {
      "text/html": [
       "<div>\n",
       "<style scoped>\n",
       "    .dataframe tbody tr th:only-of-type {\n",
       "        vertical-align: middle;\n",
       "    }\n",
       "\n",
       "    .dataframe tbody tr th {\n",
       "        vertical-align: top;\n",
       "    }\n",
       "\n",
       "    .dataframe thead th {\n",
       "        text-align: right;\n",
       "    }\n",
       "</style>\n",
       "<table border=\"1\" class=\"dataframe\">\n",
       "  <thead>\n",
       "    <tr style=\"text-align: right;\">\n",
       "      <th></th>\n",
       "      <th>PassengerId</th>\n",
       "      <th>Survived</th>\n",
       "      <th>Pclass</th>\n",
       "      <th>Name</th>\n",
       "      <th>Sex</th>\n",
       "      <th>Age</th>\n",
       "      <th>SibSp</th>\n",
       "      <th>Parch</th>\n",
       "      <th>Ticket</th>\n",
       "      <th>Fare</th>\n",
       "      <th>Cabin</th>\n",
       "      <th>Embarked</th>\n",
       "    </tr>\n",
       "  </thead>\n",
       "  <tbody>\n",
       "    <tr>\n",
       "      <th>0</th>\n",
       "      <td>1</td>\n",
       "      <td>0</td>\n",
       "      <td>3</td>\n",
       "      <td>Braund, Mr. Owen Harris</td>\n",
       "      <td>male</td>\n",
       "      <td>22.0</td>\n",
       "      <td>1</td>\n",
       "      <td>0</td>\n",
       "      <td>A/5 21171</td>\n",
       "      <td>7.2500</td>\n",
       "      <td>NaN</td>\n",
       "      <td>S</td>\n",
       "    </tr>\n",
       "    <tr>\n",
       "      <th>1</th>\n",
       "      <td>2</td>\n",
       "      <td>1</td>\n",
       "      <td>1</td>\n",
       "      <td>Cumings, Mrs. John Bradley (Florence Briggs Th...</td>\n",
       "      <td>female</td>\n",
       "      <td>38.0</td>\n",
       "      <td>1</td>\n",
       "      <td>0</td>\n",
       "      <td>PC 17599</td>\n",
       "      <td>71.2833</td>\n",
       "      <td>C85</td>\n",
       "      <td>C</td>\n",
       "    </tr>\n",
       "    <tr>\n",
       "      <th>2</th>\n",
       "      <td>3</td>\n",
       "      <td>1</td>\n",
       "      <td>3</td>\n",
       "      <td>Heikkinen, Miss. Laina</td>\n",
       "      <td>female</td>\n",
       "      <td>26.0</td>\n",
       "      <td>0</td>\n",
       "      <td>0</td>\n",
       "      <td>STON/O2. 3101282</td>\n",
       "      <td>7.9250</td>\n",
       "      <td>NaN</td>\n",
       "      <td>S</td>\n",
       "    </tr>\n",
       "    <tr>\n",
       "      <th>3</th>\n",
       "      <td>4</td>\n",
       "      <td>1</td>\n",
       "      <td>1</td>\n",
       "      <td>Futrelle, Mrs. Jacques Heath (Lily May Peel)</td>\n",
       "      <td>female</td>\n",
       "      <td>35.0</td>\n",
       "      <td>1</td>\n",
       "      <td>0</td>\n",
       "      <td>113803</td>\n",
       "      <td>53.1000</td>\n",
       "      <td>C123</td>\n",
       "      <td>S</td>\n",
       "    </tr>\n",
       "    <tr>\n",
       "      <th>4</th>\n",
       "      <td>5</td>\n",
       "      <td>0</td>\n",
       "      <td>3</td>\n",
       "      <td>Allen, Mr. William Henry</td>\n",
       "      <td>male</td>\n",
       "      <td>35.0</td>\n",
       "      <td>0</td>\n",
       "      <td>0</td>\n",
       "      <td>373450</td>\n",
       "      <td>8.0500</td>\n",
       "      <td>NaN</td>\n",
       "      <td>S</td>\n",
       "    </tr>\n",
       "  </tbody>\n",
       "</table>\n",
       "</div>"
      ],
      "text/plain": [
       "   PassengerId  Survived  Pclass  \\\n",
       "0            1         0       3   \n",
       "1            2         1       1   \n",
       "2            3         1       3   \n",
       "3            4         1       1   \n",
       "4            5         0       3   \n",
       "\n",
       "                                                Name     Sex   Age  SibSp  \\\n",
       "0                            Braund, Mr. Owen Harris    male  22.0      1   \n",
       "1  Cumings, Mrs. John Bradley (Florence Briggs Th...  female  38.0      1   \n",
       "2                             Heikkinen, Miss. Laina  female  26.0      0   \n",
       "3       Futrelle, Mrs. Jacques Heath (Lily May Peel)  female  35.0      1   \n",
       "4                           Allen, Mr. William Henry    male  35.0      0   \n",
       "\n",
       "   Parch            Ticket     Fare Cabin Embarked  \n",
       "0      0         A/5 21171   7.2500   NaN        S  \n",
       "1      0          PC 17599  71.2833   C85        C  \n",
       "2      0  STON/O2. 3101282   7.9250   NaN        S  \n",
       "3      0            113803  53.1000  C123        S  \n",
       "4      0            373450   8.0500   NaN        S  "
      ]
     },
     "execution_count": 7,
     "metadata": {},
     "output_type": "execute_result"
    }
   ],
   "source": [
    "df.head()"
   ]
  },
  {
   "cell_type": "markdown",
   "metadata": {},
   "source": [
    "#Removendo a coluna Name"
   ]
  },
  {
   "cell_type": "code",
   "execution_count": 8,
   "metadata": {},
   "outputs": [],
   "source": [
    "df = df.drop('Name',axis=1)"
   ]
  },
  {
   "cell_type": "markdown",
   "metadata": {},
   "source": [
    "#Removendo a coluna Cabin"
   ]
  },
  {
   "cell_type": "code",
   "execution_count": 9,
   "metadata": {},
   "outputs": [],
   "source": [
    "df = df.drop('Cabin',axis=1)"
   ]
  },
  {
   "cell_type": "markdown",
   "metadata": {},
   "source": [
    "#Removendo a coluna Ticket"
   ]
  },
  {
   "cell_type": "code",
   "execution_count": 10,
   "metadata": {},
   "outputs": [],
   "source": [
    "df = df.drop('Ticket',axis=1)"
   ]
  },
  {
   "cell_type": "code",
   "execution_count": 11,
   "metadata": {},
   "outputs": [
    {
     "data": {
      "text/plain": [
       "(889, 9)"
      ]
     },
     "execution_count": 11,
     "metadata": {},
     "output_type": "execute_result"
    }
   ],
   "source": [
    "df['Embarked'].value_counts().sum()\n",
    "df.dropna(subset=['Embarked'], inplace=True) \n",
    "df.shape"
   ]
  },
  {
   "cell_type": "markdown",
   "metadata": {},
   "source": [
    "#Converter colunas Float para Int"
   ]
  },
  {
   "cell_type": "code",
   "execution_count": 139,
   "metadata": {},
   "outputs": [],
   "source": [
    "i = df.loc[df.Age > 2, 'Age'].mean()"
   ]
  },
  {
   "cell_type": "markdown",
   "metadata": {},
   "source": [
    "#Conferindo colunas com valores inexistentes"
   ]
  },
  {
   "cell_type": "code",
   "execution_count": 144,
   "metadata": {},
   "outputs": [
    {
     "data": {
      "text/plain": [
       "PassengerId    False\n",
       "Survived       False\n",
       "Pclass         False\n",
       "Sex            False\n",
       "Age             True\n",
       "SibSp          False\n",
       "Parch          False\n",
       "Fare           False\n",
       "Embarked       False\n",
       "dtype: bool"
      ]
     },
     "execution_count": 144,
     "metadata": {},
     "output_type": "execute_result"
    }
   ],
   "source": [
    " df.isnull().any()"
   ]
  },
  {
   "cell_type": "markdown",
   "metadata": {},
   "source": [
    "#Parece que a coluna idade possui valores Nan, vamos preencher esses valores com a média da idade\n",
    "#isso ajudará a evitar erros na hora de fazer a conversão para Integer"
   ]
  },
  {
   "cell_type": "code",
   "execution_count": 146,
   "metadata": {},
   "outputs": [],
   "source": [
    "filled_df = df\n",
    "filled_df['Age'].fillna(filled_df['Age'].mean(), inplace=True)"
   ]
  },
  {
   "cell_type": "markdown",
   "metadata": {},
   "source": [
    "#Vamos conferir"
   ]
  },
  {
   "cell_type": "code",
   "execution_count": 148,
   "metadata": {},
   "outputs": [
    {
     "data": {
      "text/plain": [
       "PassengerId    False\n",
       "Survived       False\n",
       "Pclass         False\n",
       "Sex            False\n",
       "Age            False\n",
       "SibSp          False\n",
       "Parch          False\n",
       "Fare           False\n",
       "Embarked       False\n",
       "dtype: bool"
      ]
     },
     "execution_count": 148,
     "metadata": {},
     "output_type": "execute_result"
    }
   ],
   "source": [
    "df.isnull().any()"
   ]
  },
  {
   "cell_type": "markdown",
   "metadata": {},
   "source": [
    "#Agora podemos converter a coluna Age para int, pois preenchemos os valores Nan com valores da média de idade dos passageiros"
   ]
  },
  {
   "cell_type": "code",
   "execution_count": 151,
   "metadata": {},
   "outputs": [],
   "source": [
    "df['Fare'] = df['Fare'].astype(int)\n",
    "df['Age'] = df['Age'].astype(int)"
   ]
  },
  {
   "cell_type": "code",
   "execution_count": 153,
   "metadata": {},
   "outputs": [
    {
     "name": "stdout",
     "output_type": "stream",
     "text": [
      "   PassengerId  Survived  Pclass     Sex  Age  SibSp  Parch  Fare Embarked\n",
      "0            1         0       3    male   22      1      0     7        S\n",
      "1            2         1       1  female   38      1      0    71        C\n",
      "5            6         0       3    male   29      0      0     8        Q\n"
     ]
    }
   ],
   "source": [
    "drop_duplicate_df = df.drop_duplicates(['Embarked'])\n",
    "print(drop_duplicate_df)"
   ]
  },
  {
   "cell_type": "code",
   "execution_count": 154,
   "metadata": {},
   "outputs": [
    {
     "data": {
      "text/html": [
       "<div>\n",
       "<style scoped>\n",
       "    .dataframe tbody tr th:only-of-type {\n",
       "        vertical-align: middle;\n",
       "    }\n",
       "\n",
       "    .dataframe tbody tr th {\n",
       "        vertical-align: top;\n",
       "    }\n",
       "\n",
       "    .dataframe thead th {\n",
       "        text-align: right;\n",
       "    }\n",
       "</style>\n",
       "<table border=\"1\" class=\"dataframe\">\n",
       "  <thead>\n",
       "    <tr style=\"text-align: right;\">\n",
       "      <th></th>\n",
       "      <th>PassengerId</th>\n",
       "      <th>Survived</th>\n",
       "      <th>Pclass</th>\n",
       "      <th>Sex</th>\n",
       "      <th>Age</th>\n",
       "      <th>SibSp</th>\n",
       "      <th>Parch</th>\n",
       "      <th>Fare</th>\n",
       "      <th>Embarked</th>\n",
       "    </tr>\n",
       "  </thead>\n",
       "  <tbody>\n",
       "    <tr>\n",
       "      <th>0</th>\n",
       "      <td>1</td>\n",
       "      <td>0</td>\n",
       "      <td>3</td>\n",
       "      <td>male</td>\n",
       "      <td>22</td>\n",
       "      <td>1</td>\n",
       "      <td>0</td>\n",
       "      <td>7</td>\n",
       "      <td>S</td>\n",
       "    </tr>\n",
       "    <tr>\n",
       "      <th>1</th>\n",
       "      <td>2</td>\n",
       "      <td>1</td>\n",
       "      <td>1</td>\n",
       "      <td>female</td>\n",
       "      <td>38</td>\n",
       "      <td>1</td>\n",
       "      <td>0</td>\n",
       "      <td>71</td>\n",
       "      <td>C</td>\n",
       "    </tr>\n",
       "    <tr>\n",
       "      <th>2</th>\n",
       "      <td>3</td>\n",
       "      <td>1</td>\n",
       "      <td>3</td>\n",
       "      <td>female</td>\n",
       "      <td>26</td>\n",
       "      <td>0</td>\n",
       "      <td>0</td>\n",
       "      <td>7</td>\n",
       "      <td>S</td>\n",
       "    </tr>\n",
       "    <tr>\n",
       "      <th>3</th>\n",
       "      <td>4</td>\n",
       "      <td>1</td>\n",
       "      <td>1</td>\n",
       "      <td>female</td>\n",
       "      <td>35</td>\n",
       "      <td>1</td>\n",
       "      <td>0</td>\n",
       "      <td>53</td>\n",
       "      <td>S</td>\n",
       "    </tr>\n",
       "    <tr>\n",
       "      <th>4</th>\n",
       "      <td>5</td>\n",
       "      <td>0</td>\n",
       "      <td>3</td>\n",
       "      <td>male</td>\n",
       "      <td>35</td>\n",
       "      <td>0</td>\n",
       "      <td>0</td>\n",
       "      <td>8</td>\n",
       "      <td>S</td>\n",
       "    </tr>\n",
       "  </tbody>\n",
       "</table>\n",
       "</div>"
      ],
      "text/plain": [
       "   PassengerId  Survived  Pclass     Sex  Age  SibSp  Parch  Fare Embarked\n",
       "0            1         0       3    male   22      1      0     7        S\n",
       "1            2         1       1  female   38      1      0    71        C\n",
       "2            3         1       3  female   26      0      0     7        S\n",
       "3            4         1       1  female   35      1      0    53        S\n",
       "4            5         0       3    male   35      0      0     8        S"
      ]
     },
     "execution_count": 154,
     "metadata": {},
     "output_type": "execute_result"
    }
   ],
   "source": [
    "df.head()"
   ]
  },
  {
   "cell_type": "code",
   "execution_count": 155,
   "metadata": {},
   "outputs": [
    {
     "data": {
      "text/plain": [
       "(889, 9)"
      ]
     },
     "execution_count": 155,
     "metadata": {},
     "output_type": "execute_result"
    }
   ],
   "source": [
    "df.shape"
   ]
  },
  {
   "cell_type": "markdown",
   "metadata": {},
   "source": [
    "# Fim da limpeza dos dados"
   ]
  },
  {
   "cell_type": "markdown",
   "metadata": {},
   "source": [
    "#1 Quantos passageiros havia em cada classe do navio?"
   ]
  },
  {
   "cell_type": "code",
   "execution_count": 156,
   "metadata": {},
   "outputs": [
    {
     "name": "stdout",
     "output_type": "stream",
     "text": [
      "Pclass\n",
      "1    214\n",
      "2    184\n",
      "3    491\n",
      "dtype: int64\n",
      "There were 184 passengers at Class 1, 172 at Class 2 and 255 at Class 3\n"
     ]
    }
   ],
   "source": [
    "classes = df.groupby('Pclass').size()\n",
    "print(classes)\n",
    "print('There were 184 passengers at Class 1, 172 at Class 2 and 255 at Class 3')"
   ]
  },
  {
   "cell_type": "markdown",
   "metadata": {},
   "source": [
    "#2 Quantos adultos haviam no navio?"
   ]
  },
  {
   "cell_type": "code",
   "execution_count": 157,
   "metadata": {},
   "outputs": [
    {
     "name": "stdout",
     "output_type": "stream",
     "text": [
      "There were 750  adults\n"
     ]
    }
   ],
   "source": [
    "adults  = df[(df.Age > 18)].count().astype(int)\n",
    "adults = adults['Age']\n",
    "adults = 'There were {}  adults'.format(adults)\n",
    "print(adults)"
   ]
  },
  {
   "cell_type": "markdown",
   "metadata": {},
   "source": [
    "#3 Quantas crianças haviam a bordo?"
   ]
  },
  {
   "cell_type": "code",
   "execution_count": 158,
   "metadata": {},
   "outputs": [
    {
     "name": "stdout",
     "output_type": "stream",
     "text": [
      "There were 139  children\n"
     ]
    }
   ],
   "source": [
    "children = df[(df.Age <= 18)].count().astype(int)\n",
    "children = children['Age']\n",
    "children = 'There were {}  children'.format(children)\n",
    "print(children)"
   ]
  },
  {
   "cell_type": "markdown",
   "metadata": {},
   "source": [
    " #4 Quantas mulheres e homens haviam a bordo"
   ]
  },
  {
   "cell_type": "code",
   "execution_count": 159,
   "metadata": {},
   "outputs": [
    {
     "name": "stdout",
     "output_type": "stream",
     "text": [
      "male      577\n",
      "female    312\n",
      "Name: Sex, dtype: int64\n",
      "n\\There were 453 Men and 259 women aboard, including children\n"
     ]
    }
   ],
   "source": [
    "counts = df['Sex'].value_counts()\n",
    "print(counts)\n",
    "print('n\\There were 453 Men and 259 women aboard, including children')"
   ]
  },
  {
   "cell_type": "markdown",
   "metadata": {},
   "source": [
    "#5 Quantas vidas foram salvas?"
   ]
  },
  {
   "cell_type": "code",
   "execution_count": 160,
   "metadata": {},
   "outputs": [
    {
     "name": "stdout",
     "output_type": "stream",
     "text": [
      "There were 340 survivors\n"
     ]
    }
   ],
   "source": [
    "survivors = df[(df.Survived == 1)].count()\n",
    "survivors = survivors['Survived']\n",
    "survivors = 'There were {} survivors'.format(survivors)\n",
    "print(survivors) "
   ]
  },
  {
   "cell_type": "markdown",
   "metadata": {},
   "source": [
    "#6 Quantas vidas foram perdidas?"
   ]
  },
  {
   "cell_type": "code",
   "execution_count": 161,
   "metadata": {},
   "outputs": [
    {
     "name": "stdout",
     "output_type": "stream",
     "text": [
      "There were 549 lives lost\n"
     ]
    }
   ],
   "source": [
    "df_lost = df.loc[df['Survived'] == 0].count().astype(int)\n",
    "df_lost = df_lost['Survived']\n",
    "df_lost = 'There were {} lives lost'.format(df_lost) \n",
    "print (df_lost)"
   ]
  },
  {
   "cell_type": "markdown",
   "metadata": {},
   "source": [
    "#7 Quantos embarcaram em cada porto?"
   ]
  },
  {
   "cell_type": "code",
   "execution_count": 162,
   "metadata": {},
   "outputs": [
    {
     "data": {
      "text/plain": [
       "S    644\n",
       "C    168\n",
       "Q     77\n",
       "Name: Embarked, dtype: int64"
      ]
     },
     "execution_count": 162,
     "metadata": {},
     "output_type": "execute_result"
    }
   ],
   "source": [
    "df['Embarked'].value_counts()"
   ]
  },
  {
   "cell_type": "markdown",
   "metadata": {},
   "source": [
    "#8 Quantos passageiros embarcaram em cada classe em cada porto?"
   ]
  },
  {
   "cell_type": "markdown",
   "metadata": {},
   "source": [
    "1ST CLASS"
   ]
  },
  {
   "cell_type": "code",
   "execution_count": 163,
   "metadata": {},
   "outputs": [
    {
     "name": "stdout",
     "output_type": "stream",
     "text": [
      "There were 127 passengers from 1st Class who embarked in Southhampton\n"
     ]
    }
   ],
   "source": [
    "class_1_south = df[(df.Pclass == 1) & (df.Embarked == 'S')].count().astype(int)\n",
    "class_1_south = class_1_south['Pclass']\n",
    "class_1_south = 'There were {} passengers from 1st Class who embarked in Southhampton'.format(class_1_south)\n",
    "print(class_1_south)"
   ]
  },
  {
   "cell_type": "code",
   "execution_count": 164,
   "metadata": {},
   "outputs": [
    {
     "name": "stdout",
     "output_type": "stream",
     "text": [
      "There were 85 passengers from 1st Class who embarked in Cherbourgh\n"
     ]
    }
   ],
   "source": [
    "class_1_south = df[(df.Pclass == 1) & (df.Embarked == 'C')].count().astype(int)\n",
    "class_1_south = class_1_south['Pclass']\n",
    "class_1_south = 'There were {} passengers from 1st Class who embarked in Cherbourgh'.format(class_1_south)\n",
    "print(class_1_south)"
   ]
  },
  {
   "cell_type": "code",
   "execution_count": 165,
   "metadata": {},
   "outputs": [
    {
     "name": "stdout",
     "output_type": "stream",
     "text": [
      "There were 2 passengers from 1st Class who embarked in Queenstown\n"
     ]
    }
   ],
   "source": [
    "class_1_south = df[(df.Pclass == 1) & (df.Embarked == 'Q')].count().astype(int)\n",
    "class_1_south = class_1_south['Pclass']\n",
    "class_1_south = 'There were {} passengers from 1st Class who embarked in Queenstown'.format(class_1_south)\n",
    "print(class_1_south)"
   ]
  },
  {
   "cell_type": "markdown",
   "metadata": {},
   "source": [
    "2ND CLASS"
   ]
  },
  {
   "cell_type": "code",
   "execution_count": 166,
   "metadata": {},
   "outputs": [
    {
     "name": "stdout",
     "output_type": "stream",
     "text": [
      "There were 164 passengers from 2st Class who embarked in Southhampton\n"
     ]
    }
   ],
   "source": [
    "class_1_south = df[(df.Pclass == 2) & (df.Embarked == 'S')].count().astype(int)\n",
    "class_1_south = class_1_south['Pclass']\n",
    "class_1_south = 'There were {} passengers from 2st Class who embarked in Southhampton'.format(class_1_south)\n",
    "print(class_1_south)"
   ]
  },
  {
   "cell_type": "code",
   "execution_count": 167,
   "metadata": {},
   "outputs": [
    {
     "name": "stdout",
     "output_type": "stream",
     "text": [
      "There were 17 passengers from 2st Class who embarked in Cherbourgh\n"
     ]
    }
   ],
   "source": [
    "class_1_south = df[(df.Pclass == 2) & (df.Embarked == 'C')].count().astype(int)\n",
    "class_1_south = class_1_south['Pclass']\n",
    "class_1_south = 'There were {} passengers from 2st Class who embarked in Cherbourgh'.format(class_1_south)\n",
    "print(class_1_south)"
   ]
  },
  {
   "cell_type": "code",
   "execution_count": 168,
   "metadata": {},
   "outputs": [
    {
     "name": "stdout",
     "output_type": "stream",
     "text": [
      "There were 3 passengers from 2st Class who embarked in Queenstown\n"
     ]
    }
   ],
   "source": [
    "class_1_south = df[(df.Pclass == 2) & (df.Embarked == 'Q')].count().astype(int)\n",
    "class_1_south = class_1_south['Pclass']\n",
    "class_1_south = 'There were {} passengers from 2st Class who embarked in Queenstown'.format(class_1_south)\n",
    "print(class_1_south)"
   ]
  },
  {
   "cell_type": "markdown",
   "metadata": {},
   "source": [
    "3RD CLASS"
   ]
  },
  {
   "cell_type": "code",
   "execution_count": 169,
   "metadata": {},
   "outputs": [
    {
     "name": "stdout",
     "output_type": "stream",
     "text": [
      "There were 164 passengers from 2st Class who embarked in Southhampton\n"
     ]
    }
   ],
   "source": [
    "class_1_south = df[(df.Pclass == 2) & (df.Embarked == 'S')].count().astype(int)\n",
    "class_1_south = class_1_south['Pclass']\n",
    "class_1_south = 'There were {} passengers from 2st Class who embarked in Southhampton'.format(class_1_south)\n",
    "print(class_1_south)"
   ]
  },
  {
   "cell_type": "code",
   "execution_count": 170,
   "metadata": {},
   "outputs": [
    {
     "name": "stdout",
     "output_type": "stream",
     "text": [
      "There were 17 passengers from 2st Class who embarked in Cherbourgh\n"
     ]
    }
   ],
   "source": [
    "class_1_south = df[(df.Pclass == 2) & (df.Embarked == 'C')].count().astype(int)\n",
    "class_1_south = class_1_south['Pclass']\n",
    "class_1_south = 'There were {} passengers from 2st Class who embarked in Cherbourgh'.format(class_1_south)\n",
    "print(class_1_south)"
   ]
  },
  {
   "cell_type": "code",
   "execution_count": 171,
   "metadata": {},
   "outputs": [
    {
     "name": "stdout",
     "output_type": "stream",
     "text": [
      "There were 3 passengers from 2st Class who embarked in Queenstown\n"
     ]
    }
   ],
   "source": [
    "class_1_south = df[(df.Pclass == 2) & (df.Embarked == 'Q')].count().astype(int)\n",
    "class_1_south = class_1_south['Pclass']\n",
    "class_1_south = 'There were {} passengers from 2st Class who embarked in Queenstown'.format(class_1_south)\n",
    "print(class_1_south)"
   ]
  },
  {
   "cell_type": "markdown",
   "metadata": {},
   "source": [
    "#9 Qual a média das idades das mulheres?"
   ]
  },
  {
   "cell_type": "code",
   "execution_count": 172,
   "metadata": {},
   "outputs": [
    {
     "data": {
      "text/plain": [
       "27.94871794871795"
      ]
     },
     "execution_count": 172,
     "metadata": {},
     "output_type": "execute_result"
    }
   ],
   "source": [
    "df1 = df[df['Sex'] == 'female'] \n",
    "df2 = df[df['Sex'] == 'male']\n",
    "df1['Age'].mean() "
   ]
  },
  {
   "cell_type": "markdown",
   "metadata": {},
   "source": [
    "#10 Qual a média das idades dos homens?"
   ]
  },
  {
   "cell_type": "code",
   "execution_count": 173,
   "metadata": {},
   "outputs": [
    {
     "data": {
      "text/plain": [
       "30.336221837088388"
      ]
     },
     "execution_count": 173,
     "metadata": {},
     "output_type": "execute_result"
    }
   ],
   "source": [
    "df1 = df[df['Sex'] == 'female'] \n",
    "df2 = df[df['Sex'] == 'male']\n",
    "df2['Age'].mean()"
   ]
  },
  {
   "cell_type": "markdown",
   "metadata": {},
   "source": [
    "#11 Qual a idade da mulher mais idosa?"
   ]
  },
  {
   "cell_type": "code",
   "execution_count": 174,
   "metadata": {},
   "outputs": [
    {
     "data": {
      "text/plain": [
       "63"
      ]
     },
     "execution_count": 174,
     "metadata": {},
     "output_type": "execute_result"
    }
   ],
   "source": [
    "df1['Age'].max()"
   ]
  },
  {
   "cell_type": "markdown",
   "metadata": {},
   "source": [
    "#12 Qual a idade do homem mais idoso?"
   ]
  },
  {
   "cell_type": "code",
   "execution_count": 175,
   "metadata": {},
   "outputs": [
    {
     "data": {
      "text/plain": [
       "80"
      ]
     },
     "execution_count": 175,
     "metadata": {},
     "output_type": "execute_result"
    }
   ],
   "source": [
    "df2['Age'].max()"
   ]
  },
  {
   "cell_type": "markdown",
   "metadata": {},
   "source": [
    "#13 Quantos homens sobreviveram?"
   ]
  },
  {
   "cell_type": "code",
   "execution_count": 176,
   "metadata": {},
   "outputs": [
    {
     "name": "stdout",
     "output_type": "stream",
     "text": [
      "85 male adults survived\n"
     ]
    }
   ],
   "source": [
    "df_saved  = df[(df.Sex == 'male') & (df.Age > 18) &(df.Survived == 1)].count().astype(int)\n",
    "df_saved = df_saved['Survived']\n",
    "df_saved = '{} male adults survived'.format(df_saved)\n",
    "print(df_saved)"
   ]
  },
  {
   "cell_type": "markdown",
   "metadata": {},
   "source": [
    "#14 Quantas mulheres sobreviveram? "
   ]
  },
  {
   "cell_type": "code",
   "execution_count": 177,
   "metadata": {},
   "outputs": [
    {
     "name": "stdout",
     "output_type": "stream",
     "text": [
      "There were 185 female adults survived\n"
     ]
    }
   ],
   "source": [
    "df_saved  = df[(df.Sex == 'female') & (df.Age > 18) &(df.Survived == 1)].count().astype(int)\n",
    "df_saved = df_saved['Survived']\n",
    "df_saved = 'There were {} female adults survived'.format(df_saved)\n",
    "print(df_saved)"
   ]
  },
  {
   "cell_type": "markdown",
   "metadata": {},
   "source": [
    "#15 Quantos eram garotos?"
   ]
  },
  {
   "cell_type": "code",
   "execution_count": 178,
   "metadata": {},
   "outputs": [
    {
     "name": "stdout",
     "output_type": "stream",
     "text": [
      "There were 71 boys\n"
     ]
    }
   ],
   "source": [
    "boys = df[(df.Sex == 'male') & (df.Age <= 18)].count().astype(int)\n",
    "boys = boys['Sex']\n",
    "boys = 'There were {} boys'.format(boys)\n",
    "print(boys)"
   ]
  },
  {
   "cell_type": "markdown",
   "metadata": {},
   "source": [
    "#16 Quantos eram garotas?"
   ]
  },
  {
   "cell_type": "code",
   "execution_count": 179,
   "metadata": {},
   "outputs": [
    {
     "name": "stdout",
     "output_type": "stream",
     "text": [
      "There were 68 girls\n"
     ]
    }
   ],
   "source": [
    "girls = df[(df.Sex == 'female') & (df.Age <= 18)].count().astype(int)\n",
    "girls = girls['Sex']\n",
    "girls = 'There were {} girls'.format(girls)\n",
    "print(girls)"
   ]
  },
  {
   "cell_type": "markdown",
   "metadata": {},
   "source": [
    "#17 Qual era a porcentagem de crianças"
   ]
  },
  {
   "cell_type": "code",
   "execution_count": 180,
   "metadata": {},
   "outputs": [
    {
     "data": {
      "text/plain": [
       "19.52247191011236"
      ]
     },
     "execution_count": 180,
     "metadata": {},
     "output_type": "execute_result"
    }
   ],
   "source": [
    "139 / 712 * 100"
   ]
  },
  {
   "cell_type": "markdown",
   "metadata": {},
   "source": [
    "#18 Qual era a porcentagem de mulheres?"
   ]
  },
  {
   "cell_type": "code",
   "execution_count": 181,
   "metadata": {},
   "outputs": [
    {
     "data": {
      "text/plain": [
       "36.37640449438202"
      ]
     },
     "execution_count": 181,
     "metadata": {},
     "output_type": "execute_result"
    }
   ],
   "source": [
    "259 / 712 * 100"
   ]
  },
  {
   "cell_type": "markdown",
   "metadata": {},
   "source": [
    "#19 Qual era a procentagem de homens?"
   ]
  },
  {
   "cell_type": "code",
   "execution_count": 182,
   "metadata": {},
   "outputs": [
    {
     "data": {
      "text/plain": [
       "63.62359550561798"
      ]
     },
     "execution_count": 182,
     "metadata": {},
     "output_type": "execute_result"
    }
   ],
   "source": [
    "453 / 712 * 100"
   ]
  },
  {
   "cell_type": "markdown",
   "metadata": {},
   "source": [
    "#20 Quantas crianças foram salvas?"
   ]
  },
  {
   "cell_type": "code",
   "execution_count": 183,
   "metadata": {},
   "outputs": [
    {
     "name": "stdout",
     "output_type": "stream",
     "text": [
      "There were 70 children saved\n"
     ]
    }
   ],
   "source": [
    "df_saved = df[(df.Age <= 18) & (df.Survived == 1)].count().astype(int)\n",
    "df_saved = df_saved['Survived']\n",
    "df_saved = 'There were {} children saved'.format(df_saved)\n",
    "print(df_saved)"
   ]
  },
  {
   "cell_type": "markdown",
   "metadata": {},
   "source": [
    "#21 Quantas garotos foram salvos?"
   ]
  },
  {
   "cell_type": "code",
   "execution_count": 184,
   "metadata": {},
   "outputs": [
    {
     "name": "stdout",
     "output_type": "stream",
     "text": [
      "There were 24 boys saved\n"
     ]
    }
   ],
   "source": [
    "df_saved = df[(df.Sex == 'male') & (df.Age <= 18) & (df.Survived == 1)].count().astype(int)\n",
    "df_saved = df_saved['Survived']\n",
    "df_saved = 'There were {} boys saved'.format(df_saved)\n",
    "print(df_saved)"
   ]
  },
  {
   "cell_type": "markdown",
   "metadata": {},
   "source": [
    "#22 Quantas garotas foram salvas?"
   ]
  },
  {
   "cell_type": "code",
   "execution_count": 185,
   "metadata": {},
   "outputs": [
    {
     "name": "stdout",
     "output_type": "stream",
     "text": [
      "There were 46 girls saved\n"
     ]
    }
   ],
   "source": [
    "df_saved = female_count = df[(df.Sex == 'female') & (df.Age <= 18) & (df.Survived == 1)].count().astype(int)\n",
    "df_saved = df_saved['Survived']\n",
    "df_saved = 'There were {} girls saved'.format(df_saved)\n",
    "print(df_saved) "
   ]
  },
  {
   "cell_type": "markdown",
   "metadata": {},
   "source": [
    "# Let's find the survivors by classes"
   ]
  },
  {
   "cell_type": "markdown",
   "metadata": {},
   "source": [
    "#23 Quantas mulheres da primeira classe sobreviveram?"
   ]
  },
  {
   "cell_type": "code",
   "execution_count": 186,
   "metadata": {},
   "outputs": [
    {
     "name": "stdout",
     "output_type": "stream",
     "text": [
      "There are 89 female survivors from the First Class\n"
     ]
    }
   ],
   "source": [
    "ffc_sur = df[(df.Sex == 'female') & (df.Survived == 1) & (df.Pclass == 1)]\n",
    "first_class = ffc_sur\n",
    "first_class = ffc_sur[first_class.columns[1:5]]\n",
    "first_class.head(5)\n",
    "qty = (len(first_class))\n",
    "qty = 'There are {} female survivors from the First Class'.format(qty)\n",
    "print(qty)     "
   ]
  },
  {
   "cell_type": "markdown",
   "metadata": {},
   "source": [
    "#24 Quantas mulheres da segunda classe sobreviveram?"
   ]
  },
  {
   "cell_type": "code",
   "execution_count": 187,
   "metadata": {},
   "outputs": [
    {
     "name": "stdout",
     "output_type": "stream",
     "text": [
      "There are 70 female survivors from the Second Class\n"
     ]
    }
   ],
   "source": [
    "ffc_sur = df[(df.Sex == 'female') & (df.Survived == 1) & (df.Pclass == 2)]\n",
    "first_class = ffc_sur\n",
    "first_class = ffc_sur[first_class.columns[1:5]]\n",
    "first_class.head(5)\n",
    "qty = (len(first_class))\n",
    "qty = 'There are {} female survivors from the Second Class'.format(qty)\n",
    "print(qty)  "
   ]
  },
  {
   "cell_type": "markdown",
   "metadata": {},
   "source": [
    "#25 Quantas mulheres da terceira classe sobreviveram?"
   ]
  },
  {
   "cell_type": "code",
   "execution_count": 188,
   "metadata": {},
   "outputs": [
    {
     "name": "stdout",
     "output_type": "stream",
     "text": [
      "There are 0 female survivors from the Third Class\n"
     ]
    }
   ],
   "source": [
    "ffc_sur = df[(df.Sex == 'female') & (df.Survived == 3) & (df.Pclass == 1)]\n",
    "first_class = ffc_sur\n",
    "first_class = ffc_sur[first_class.columns[1:5]]\n",
    "first_class.head(5)\n",
    "qty = (len(first_class))\n",
    "qty = 'There are {} female survivors from the Third Class'.format(qty)\n",
    "print(qty)  "
   ]
  },
  {
   "cell_type": "markdown",
   "metadata": {},
   "source": [
    "#26 Quantos homens da primeira classe sobreviveram?"
   ]
  },
  {
   "cell_type": "code",
   "execution_count": 189,
   "metadata": {},
   "outputs": [
    {
     "name": "stdout",
     "output_type": "stream",
     "text": [
      "There are 45 male survivors from the first Class\n"
     ]
    }
   ],
   "source": [
    "ffc_sur = df[(df.Sex == 'male') & (df.Survived == 1) & (df.Pclass == 1)]\n",
    "first_class = ffc_sur[first_class.columns[1:4]]\n",
    "first_class.head(5) \n",
    "qty = (len(first_class))\n",
    "qty = 'There are {} male survivors from the first Class'.format(qty)\n",
    "print(qty)      "
   ]
  },
  {
   "cell_type": "markdown",
   "metadata": {},
   "source": [
    "#27 Quantos homens da segunda classe sobreviveram?"
   ]
  },
  {
   "cell_type": "code",
   "execution_count": 190,
   "metadata": {},
   "outputs": [
    {
     "name": "stdout",
     "output_type": "stream",
     "text": [
      "There are 17 male survivors from the first Class\n"
     ]
    }
   ],
   "source": [
    "ffc_sur = df[(df.Sex == 'male') & (df.Survived == 1) & (df.Pclass == 2)]\n",
    "first_class = ffc_sur[first_class.columns[1:4]]\n",
    "first_class.head(5) \n",
    "qty = (len(first_class))\n",
    "qty = 'There are {} male survivors from the first Class'.format(qty)\n",
    "print(qty) "
   ]
  },
  {
   "cell_type": "markdown",
   "metadata": {},
   "source": [
    "#28 Quantos homens da terceira classe sobreviveram?"
   ]
  },
  {
   "cell_type": "code",
   "execution_count": 191,
   "metadata": {},
   "outputs": [
    {
     "name": "stdout",
     "output_type": "stream",
     "text": [
      "There are 47 male survivors from the first Class\n"
     ]
    }
   ],
   "source": [
    "ffc_sur = df[(df.Sex == 'male') & (df.Survived == 1) & (df.Pclass == 3)]\n",
    "first_class = ffc_sur[first_class.columns[1:4]]\n",
    "first_class.head(5) \n",
    "qty = (len(first_class))\n",
    "qty = 'There are {} male survivors from the first Class'.format(qty)\n",
    "print(qty) "
   ]
  },
  {
   "cell_type": "markdown",
   "metadata": {},
   "source": [
    "#29 Quantas garotas da primeira classe sobreviveram?"
   ]
  },
  {
   "cell_type": "code",
   "execution_count": 192,
   "metadata": {},
   "outputs": [
    {
     "name": "stdout",
     "output_type": "stream",
     "text": [
      "There are 10 female survivors under the age of 18 from the First Class\n"
     ]
    }
   ],
   "source": [
    "ffc_sur = df[(df.Sex == 'female') & (df.Survived == 1) & (df.Pclass == 1) & (df.Age <= 18)]\n",
    "qty = (len(ffc_sur))\n",
    "qty = 'There are {} female survivors under the age of 18 from the First Class'.format(qty)\n",
    "print(qty)     \n",
    "ffc_sur\n",
    "ffc_sur = (len(first_class))"
   ]
  },
  {
   "cell_type": "markdown",
   "metadata": {},
   "source": [
    "#30 Quantas garotas da segunda classe sobreviveram?"
   ]
  },
  {
   "cell_type": "code",
   "execution_count": 193,
   "metadata": {},
   "outputs": [
    {
     "name": "stdout",
     "output_type": "stream",
     "text": [
      "There are 14 female survivors under the age of 18 from the Second Class\n"
     ]
    }
   ],
   "source": [
    "ffc_sur = df[(df.Sex == 'female') & (df.Survived == 1) & (df.Pclass == 2) & (df.Age <= 18)]\n",
    "qty = (len(ffc_sur))\n",
    "qty = 'There are {} female survivors under the age of 18 from the Second Class'.format(qty)\n",
    "print(qty)     \n",
    "ffc_sur\n",
    "ffc_sur = (len(first_class))"
   ]
  },
  {
   "cell_type": "markdown",
   "metadata": {},
   "source": [
    "#31 Quantas garotas da terceira classe sobreviveram?"
   ]
  },
  {
   "cell_type": "code",
   "execution_count": 198,
   "metadata": {},
   "outputs": [
    {
     "name": "stdout",
     "output_type": "stream",
     "text": [
      "There are 22 female  survivors from the Third Class\n"
     ]
    }
   ],
   "source": [
    "ffc_sur = df[(df.Sex == 'female') & (df.Survived == 1) & (df.Pclass == 3) & (df.Age <= 18)]\n",
    "third_class = ffc_sur\n",
    "third_class.head(5) \n",
    "qty = (len(third_class))\n",
    "qty = 'There are {} female  survivors from the Third Class'.format(qty)\n",
    "print(qty)     "
   ]
  },
  {
   "cell_type": "markdown",
   "metadata": {},
   "source": [
    "#32 Quantas garotos da primeira classe sobreviveram?"
   ]
  },
  {
   "cell_type": "code",
   "execution_count": 199,
   "metadata": {},
   "outputs": [
    {
     "name": "stdout",
     "output_type": "stream",
     "text": [
      "There are 4 male survivors under the age of 18  from the First Class\n"
     ]
    }
   ],
   "source": [
    "ffc_sur = df[(df.Sex == 'male') & (df.Survived == 1) & (df.Pclass == 1) & (df.Age <= 18)]\n",
    "first_class = ffc_sur\n",
    "qty = (len(first_class))\n",
    "qty = 'There are {} male survivors under the age of 18  from the First Class'.format(qty)\n",
    "print(qty)  "
   ]
  },
  {
   "cell_type": "markdown",
   "metadata": {},
   "source": [
    "#33 Quantas garotos da segunda classe sobreviveram?"
   ]
  },
  {
   "cell_type": "code",
   "execution_count": 200,
   "metadata": {},
   "outputs": [
    {
     "name": "stdout",
     "output_type": "stream",
     "text": [
      "There are 9 male survivors under the age of 18  from the Second Class\n"
     ]
    }
   ],
   "source": [
    "ffc_sur = df[(df.Sex == 'male') & (df.Survived == 1) & (df.Pclass == 2) & (df.Age <= 18)]\n",
    "second_class = ffc_sur\n",
    "qty = (len(second_class))\n",
    "qty = 'There are {} male survivors under the age of 18  from the Second Class'.format(qty)\n",
    "print(qty) "
   ]
  },
  {
   "cell_type": "markdown",
   "metadata": {},
   "source": [
    "#34 Quantas garotos da terceira classe sobreviveram?"
   ]
  },
  {
   "cell_type": "code",
   "execution_count": 43,
   "metadata": {},
   "outputs": [
    {
     "name": "stdout",
     "output_type": "stream",
     "text": [
      "There are 11 male survivors under the age of 18  from the Third Class\n"
     ]
    }
   ],
   "source": [
    "ffc_sur = df[(df.Sex == 'male') & (df.Survived == 1) & (df.Pclass == 3) & (df.Age <= 18)]\n",
    "third_class = ffc_sur\n",
    "qty = (len(third_class))\n",
    "qty = 'There are {} male survivors under the age of 18  from the Third Class'.format(qty)\n",
    "print(qty)"
   ]
  },
  {
   "cell_type": "markdown",
   "metadata": {},
   "source": [
    "#35 Vamos visualizar os sobreviventes por idade"
   ]
  },
  {
   "cell_type": "markdown",
   "metadata": {},
   "source": [
    "Aqui temos um gráfico onde mostra a frequência por idade dos sobreviventes e das vidas perdidas"
   ]
  },
  {
   "cell_type": "code",
   "execution_count": 44,
   "metadata": {},
   "outputs": [
    {
     "data": {
      "text/plain": [
       "<seaborn.axisgrid.FacetGrid at 0x1a31342320>"
      ]
     },
     "execution_count": 44,
     "metadata": {},
     "output_type": "execute_result"
    },
    {
     "data": {
      "image/png": "[encoded data removed]",
      "text/plain": [
       "<Figure size 915.875x216 with 1 Axes>"
      ]
     },
     "metadata": {
      "needs_background": "light"
     },
     "output_type": "display_data"
    }
   ],
   "source": [
    "facet = sns.FacetGrid(df, hue=\"Survived\",aspect=4)\n",
    "facet.map(sns.kdeplot,'Age',shade= True)\n",
    "facet.set(xlim=(0, df['Age'].max()))\n",
    "axes = facet.axes.flatten()\n",
    "axes[0].set_title(\"Age Frequency\")\n",
    "axes = facet.axes.flatten()\n",
    "axes[0].set_ylabel(\"Survived\")\n",
    "for ax in axes:\n",
    "    ax.set_xlabel(\"Age Range\")\n",
    "facet.add_legend()"
   ]
  },
  {
   "cell_type": "markdown",
   "metadata": {},
   "source": [
    "#36 Sobreviventes baseados no preço do ticket"
   ]
  },
  {
   "cell_type": "code",
   "execution_count": 49,
   "metadata": {},
   "outputs": [
    {
     "data": {
      "text/plain": [
       "<seaborn.axisgrid.FacetGrid at 0x1a311f4f28>"
      ]
     },
     "execution_count": 49,
     "metadata": {},
     "output_type": "execute_result"
    },
    {
     "data": {
      "image/png": "[encoded data removed]",
      "text/plain": [
       "<Figure size 915.875x216 with 1 Axes>"
      ]
     },
     "metadata": {
      "needs_background": "light"
     },
     "output_type": "display_data"
    }
   ],
   "source": [
    "facet = sns.FacetGrid(df, hue=\"Survived\",aspect=4)\n",
    "facet.map(sns.kdeplot,'Fare',shade= False,)\n",
    "facet.set(xlim=(0, df['Fare'].max()))\n",
    "axes = facet.axes.flatten()\n",
    "axes[0].set_title(\"Survivors by Price Paid\")\n",
    "axes = facet.axes.flatten()\n",
    "axes[0].set_ylabel(\"Survived\")\n",
    "for ax in axes:\n",
    "    ax.set_xlabel(\"Class\")\n",
    "facet.add_legend() "
   ]
  },
  {
   "cell_type": "code",
   "execution_count": 31,
   "metadata": {},
   "outputs": [
    {
     "data": {
      "text/html": [
       "<div>\n",
       "<style scoped>\n",
       "    .dataframe tbody tr th:only-of-type {\n",
       "        vertical-align: middle;\n",
       "    }\n",
       "\n",
       "    .dataframe tbody tr th {\n",
       "        vertical-align: top;\n",
       "    }\n",
       "\n",
       "    .dataframe thead th {\n",
       "        text-align: right;\n",
       "    }\n",
       "</style>\n",
       "<table border=\"1\" class=\"dataframe\">\n",
       "  <thead>\n",
       "    <tr style=\"text-align: right;\">\n",
       "      <th></th>\n",
       "      <th>PassengerId</th>\n",
       "      <th>Survived</th>\n",
       "      <th>Pclass</th>\n",
       "      <th>Sex</th>\n",
       "      <th>Age</th>\n",
       "      <th>SibSp</th>\n",
       "      <th>Parch</th>\n",
       "      <th>Fare</th>\n",
       "      <th>Embarked</th>\n",
       "    </tr>\n",
       "  </thead>\n",
       "  <tbody>\n",
       "    <tr>\n",
       "      <th>0</th>\n",
       "      <td>1</td>\n",
       "      <td>0</td>\n",
       "      <td>3</td>\n",
       "      <td>male</td>\n",
       "      <td>22.0</td>\n",
       "      <td>1</td>\n",
       "      <td>0</td>\n",
       "      <td>7.2500</td>\n",
       "      <td>S</td>\n",
       "    </tr>\n",
       "    <tr>\n",
       "      <th>1</th>\n",
       "      <td>2</td>\n",
       "      <td>1</td>\n",
       "      <td>1</td>\n",
       "      <td>female</td>\n",
       "      <td>38.0</td>\n",
       "      <td>1</td>\n",
       "      <td>0</td>\n",
       "      <td>71.2833</td>\n",
       "      <td>C</td>\n",
       "    </tr>\n",
       "    <tr>\n",
       "      <th>2</th>\n",
       "      <td>3</td>\n",
       "      <td>1</td>\n",
       "      <td>3</td>\n",
       "      <td>female</td>\n",
       "      <td>26.0</td>\n",
       "      <td>0</td>\n",
       "      <td>0</td>\n",
       "      <td>7.9250</td>\n",
       "      <td>S</td>\n",
       "    </tr>\n",
       "    <tr>\n",
       "      <th>3</th>\n",
       "      <td>4</td>\n",
       "      <td>1</td>\n",
       "      <td>1</td>\n",
       "      <td>female</td>\n",
       "      <td>35.0</td>\n",
       "      <td>1</td>\n",
       "      <td>0</td>\n",
       "      <td>53.1000</td>\n",
       "      <td>S</td>\n",
       "    </tr>\n",
       "    <tr>\n",
       "      <th>4</th>\n",
       "      <td>5</td>\n",
       "      <td>0</td>\n",
       "      <td>3</td>\n",
       "      <td>male</td>\n",
       "      <td>35.0</td>\n",
       "      <td>0</td>\n",
       "      <td>0</td>\n",
       "      <td>8.0500</td>\n",
       "      <td>S</td>\n",
       "    </tr>\n",
       "  </tbody>\n",
       "</table>\n",
       "</div>"
      ],
      "text/plain": [
       "   PassengerId  Survived  Pclass     Sex   Age  SibSp  Parch     Fare Embarked\n",
       "0            1         0       3    male  22.0      1      0   7.2500        S\n",
       "1            2         1       1  female  38.0      1      0  71.2833        C\n",
       "2            3         1       3  female  26.0      0      0   7.9250        S\n",
       "3            4         1       1  female  35.0      1      0  53.1000        S\n",
       "4            5         0       3    male  35.0      0      0   8.0500        S"
      ]
     },
     "execution_count": 31,
     "metadata": {},
     "output_type": "execute_result"
    }
   ],
   "source": [
    "df.head()"
   ]
  },
  {
   "cell_type": "markdown",
   "metadata": {},
   "source": [
    "#37 Visualizar sobreviventes por genero"
   ]
  },
  {
   "cell_type": "code",
   "execution_count": 53,
   "metadata": {},
   "outputs": [
    {
     "data": {
      "text/plain": [
       "<matplotlib.axes._subplots.AxesSubplot at 0x1a3101ab70>"
      ]
     },
     "execution_count": 53,
     "metadata": {},
     "output_type": "execute_result"
    },
    {
     "data": {
      "image/png": "[encoded data removed]",
      "text/plain": [
       "<Figure size 1008x576 with 1 Axes>"
      ]
     },
     "metadata": {
      "needs_background": "light"
     },
     "output_type": "display_data"
    }
   ],
   "source": [
    "fig, axis1 = plt.subplots(1,1,figsize=(14,8)) \n",
    "plt.title('Sobreviventes pro Gênero')\n",
    "average_age = df[[\"Survived\",\"Sex\"]].groupby(['Sex'],as_index=False).mean()\n",
    "sns.barplot(x='Survived', y='Sex', data=average_age)"
   ]
  },
  {
   "cell_type": "markdown",
   "metadata": {},
   "source": [
    "#38 Find Adults Females that survived from the 1st Class that board in Queenstown "
   ]
  },
  {
   "cell_type": "code",
   "execution_count": 206,
   "metadata": {},
   "outputs": [
    {
     "name": "stdout",
     "output_type": "stream",
     "text": [
      "There are 1 Adults Females that survived from the 1st Class that board in Queenstown \n"
     ]
    }
   ],
   "source": [
    "ffc_sur = df[(df.Sex == 'female') & (df.Survived == 1) & (df.Pclass == 1) & (df.Age > 18) & (df.Embarked == 'Q')]\n",
    "third_class = ffc_sur\n",
    "qty = (len(third_class))\n",
    "qty = 'There are {} Adults Females that survived from the 1st Class that board in Queenstown '.format(qty)\n",
    "print(qty)"
   ]
  },
  {
   "cell_type": "markdown",
   "metadata": {},
   "source": [
    "#39 Find Adults Females that survived from the 1st Class that board in Cherborough "
   ]
  },
  {
   "cell_type": "code",
   "execution_count": 207,
   "metadata": {},
   "outputs": [
    {
     "name": "stdout",
     "output_type": "stream",
     "text": [
      "There are 38 Adults Females that survived from the 1st Class that board in Cherborough \n"
     ]
    }
   ],
   "source": [
    "ffc_sur = df[(df.Sex == 'female') & (df.Survived == 1) & (df.Pclass == 1) & (df.Age > 18) & (df.Embarked == 'C')]\n",
    "third_class = ffc_sur\n",
    "qty = (len(third_class))\n",
    "qty = 'There are {} Adults Females that survived from the 1st Class that board in Cherborough '.format(qty)\n",
    "print(qty)"
   ]
  },
  {
   "cell_type": "markdown",
   "metadata": {},
   "source": [
    "#40 Find Adults Females that survived from the 1st Class that board in Southhampton "
   ]
  },
  {
   "cell_type": "code",
   "execution_count": 208,
   "metadata": {},
   "outputs": [
    {
     "name": "stdout",
     "output_type": "stream",
     "text": [
      "There are 40 Adults Females that survived from the 1st Class that board in Southampton \n"
     ]
    }
   ],
   "source": [
    "ffc_sur = df[(df.Sex == 'female') & (df.Survived == 1) & (df.Pclass == 1) & (df.Age > 18) & (df.Embarked == 'S')]\n",
    "third_class = ffc_sur\n",
    "qty = (len(third_class))\n",
    "qty = 'There are {} Adults Females that survived from the 1st Class that board in Southampton '.format(qty)\n",
    "print(qty)"
   ]
  },
  {
   "cell_type": "markdown",
   "metadata": {},
   "source": [
    "#41 How many Adults Females survived from the 2nd Class that board in Queenstown?"
   ]
  },
  {
   "cell_type": "code",
   "execution_count": 210,
   "metadata": {},
   "outputs": [
    {
     "name": "stdout",
     "output_type": "stream",
     "text": [
      "There are 2 Adults Females that survived from the 2nd Class that board in Queenstown \n"
     ]
    }
   ],
   "source": [
    "ffc_sur = df[(df.Sex == 'female') & (df.Survived == 1) & (df.Pclass == 2) & (df.Age > 18) & (df.Embarked == 'Q')]\n",
    "third_class = ffc_sur\n",
    "qty = (len(third_class))\n",
    "qty = 'There are {} Adults Females that survived from the 2nd Class that board in Queenstown '.format(qty)\n",
    "print(qty)"
   ]
  },
  {
   "cell_type": "markdown",
   "metadata": {},
   "source": [
    "#42 How many Adults Females that survived from the 2nd Class board in Cherborough?"
   ]
  },
  {
   "cell_type": "code",
   "execution_count": 211,
   "metadata": {},
   "outputs": [
    {
     "name": "stdout",
     "output_type": "stream",
     "text": [
      "There are 4 Adults Females that survived from the 2nd Class that board in Cherborough \n"
     ]
    }
   ],
   "source": [
    "ffc_sur = df[(df.Sex == 'female') & (df.Survived == 1) & (df.Pclass == 2) & (df.Age > 18) & (df.Embarked == 'C')]\n",
    "third_class = ffc_sur\n",
    "qty = (len(third_class))\n",
    "qty = 'There are {} Adults Females that survived from the 2nd Class that board in Cherborough '.format(qty)\n",
    "print(qty)"
   ]
  },
  {
   "cell_type": "markdown",
   "metadata": {},
   "source": [
    "#43 How many Adults Females that survived from the 1st Class board in Queenstown?"
   ]
  },
  {
   "cell_type": "code",
   "execution_count": 212,
   "metadata": {},
   "outputs": [
    {
     "name": "stdout",
     "output_type": "stream",
     "text": [
      "There are 50 Adults Females that survived from the 2nd Class that board in Southampton \n"
     ]
    }
   ],
   "source": [
    "ffc_sur = df[(df.Sex == 'female') & (df.Survived == 1) & (df.Pclass == 2) & (df.Age > 18) & (df.Embarked == 'S')]\n",
    "third_class = ffc_sur\n",
    "qty = (len(third_class))\n",
    "qty = 'There are {} Adults Females that survived from the 2nd Class that board in Southampton '.format(qty)\n",
    "print(qty)"
   ]
  },
  {
   "cell_type": "markdown",
   "metadata": {},
   "source": [
    "#44 How many Adults Females that survived from the 3rd Class  board in Queenstown?"
   ]
  },
  {
   "cell_type": "code",
   "execution_count": 213,
   "metadata": {},
   "outputs": [
    {
     "name": "stdout",
     "output_type": "stream",
     "text": [
      "There are 21 Adults Females that survived from the 3rd Class that board in Queenstown \n"
     ]
    }
   ],
   "source": [
    "ffc_sur = df[(df.Sex == 'female') & (df.Survived == 1) & (df.Pclass == 3) & (df.Age > 18) & (df.Embarked == 'Q')]\n",
    "third_class = ffc_sur\n",
    "qty = (len(third_class))\n",
    "qty = 'There are {} Adults Females that survived from the 3rd Class that board in Queenstown '.format(qty)\n",
    "print(qty)"
   ]
  },
  {
   "cell_type": "markdown",
   "metadata": {},
   "source": [
    "#45 How many Adults Females that survived from the 3rd Class board in Cherborough?"
   ]
  },
  {
   "cell_type": "code",
   "execution_count": 214,
   "metadata": {},
   "outputs": [
    {
     "name": "stdout",
     "output_type": "stream",
     "text": [
      "There are 6 Adults Females that survived from the 3rd Class that board in Cherborough \n"
     ]
    }
   ],
   "source": [
    "ffc_sur = df[(df.Sex == 'female') & (df.Survived == 1) & (df.Pclass == 3) & (df.Age > 18) & (df.Embarked == 'C')]\n",
    "third_class = ffc_sur\n",
    "qty = (len(third_class))\n",
    "qty = 'There are {} Adults Females that survived from the 3rd Class that board in Cherborough '.format(qty)\n",
    "print(qty)"
   ]
  },
  {
   "cell_type": "markdown",
   "metadata": {},
   "source": [
    "#46 How many Adults Females that survived from the 3rd Class that board in Queenstown?"
   ]
  },
  {
   "cell_type": "code",
   "execution_count": 215,
   "metadata": {},
   "outputs": [
    {
     "name": "stdout",
     "output_type": "stream",
     "text": [
      "There are 23 Adults Females that survived from the 3rd Class that board in Southampton \n"
     ]
    }
   ],
   "source": [
    "ffc_sur = df[(df.Sex == 'female') & (df.Survived == 1) & (df.Pclass == 3) & (df.Age > 18) & (df.Embarked == 'S')]\n",
    "third_class = ffc_sur\n",
    "qty = (len(third_class))\n",
    "qty = 'There are {} Adults Females that survived from the 3rd Class that board in Southampton '.format(qty)\n",
    "print(qty)"
   ]
  },
  {
   "cell_type": "markdown",
   "metadata": {},
   "source": [
    "#47 How many Adults Males that survived from the 1st Class board in Queenstown?"
   ]
  },
  {
   "cell_type": "code",
   "execution_count": 216,
   "metadata": {},
   "outputs": [
    {
     "name": "stdout",
     "output_type": "stream",
     "text": [
      "There are 0 Adults Males that survived from the 1st Class that board in Queenstown \n"
     ]
    }
   ],
   "source": [
    "ffc_sur = df[(df.Sex == 'male') & (df.Survived == 1) & (df.Pclass == 1) & (df.Age > 18) & (df.Embarked == 'Q')]\n",
    "third_class = ffc_sur\n",
    "qty = (len(third_class))\n",
    "qty = 'There are {} Adults Males that survived from the 1st Class that board in Queenstown '.format(qty)\n",
    "print(qty)"
   ]
  },
  {
   "cell_type": "markdown",
   "metadata": {},
   "source": [
    "#48 How many Adults Males that survived from the 1st Class board in Cherborough?"
   ]
  },
  {
   "cell_type": "code",
   "execution_count": 217,
   "metadata": {},
   "outputs": [
    {
     "name": "stdout",
     "output_type": "stream",
     "text": [
      "There are 16 Adults Males that survived from the 1st Class that board in Cherborough \n"
     ]
    }
   ],
   "source": [
    "ffc_sur = df[(df.Sex == 'male') & (df.Survived == 1) & (df.Pclass == 1) & (df.Age > 18) & (df.Embarked == 'C')]\n",
    "third_class = ffc_sur\n",
    "qty = (len(third_class))\n",
    "qty = 'There are {} Adults Males that survived from the 1st Class that board in Cherborough '.format(qty)\n",
    "print(qty)"
   ]
  },
  {
   "cell_type": "markdown",
   "metadata": {},
   "source": [
    "#49 How many Adults Males that survived from the 1st Class board in Southhampton?"
   ]
  },
  {
   "cell_type": "code",
   "execution_count": 218,
   "metadata": {},
   "outputs": [
    {
     "name": "stdout",
     "output_type": "stream",
     "text": [
      "There are 25 Adults Males that survived from the 1st Class that board in Southampton \n"
     ]
    }
   ],
   "source": [
    "ffc_sur = df[(df.Sex == 'male') & (df.Survived == 1) & (df.Pclass == 1) & (df.Age > 18) & (df.Embarked == 'S')]\n",
    "third_class = ffc_sur\n",
    "qty = (len(third_class))\n",
    "qty = 'There are {} Adults Males that survived from the 1st Class that board in Southampton '.format(qty)\n",
    "print(qty)"
   ]
  },
  {
   "cell_type": "markdown",
   "metadata": {},
   "source": [
    "#50 How many Adults Males that survived from the 2nd Class board in Queenstown?"
   ]
  },
  {
   "cell_type": "code",
   "execution_count": 219,
   "metadata": {},
   "outputs": [
    {
     "name": "stdout",
     "output_type": "stream",
     "text": [
      "There are 0 Adults Males that survived from the 2nd Class that board in Queenstown \n"
     ]
    }
   ],
   "source": [
    "ffc_sur = df[(df.Sex == 'Male') & (df.Survived == 1) & (df.Pclass == 2) & (df.Age > 18) & (df.Embarked == 'Q')]\n",
    "third_class = ffc_sur\n",
    "qty = (len(third_class))\n",
    "qty = 'There are {} Adults Males that survived from the 2nd Class that board in Queenstown '.format(qty)\n",
    "print(qty)"
   ]
  },
  {
   "cell_type": "markdown",
   "metadata": {},
   "source": [
    "#51 How many Adults Males that survived from the 2nd Class board in Queenstown? "
   ]
  },
  {
   "cell_type": "code",
   "execution_count": 220,
   "metadata": {},
   "outputs": [
    {
     "name": "stdout",
     "output_type": "stream",
     "text": [
      "There are 1 Adults Males that survived from the 2nd Class that board in Cherborough \n"
     ]
    }
   ],
   "source": [
    "ffc_sur = df[(df.Sex == 'male') & (df.Survived == 1) & (df.Pclass == 2) & (df.Age > 18) & (df.Embarked == 'C')]\n",
    "third_class = ffc_sur\n",
    "qty = (len(third_class))\n",
    "qty = 'There are {} Adults Males that survived from the 2nd Class that board in Cherborough '.format(qty)\n",
    "print(qty)"
   ]
  },
  {
   "cell_type": "markdown",
   "metadata": {},
   "source": [
    "#52 How many Adults Males that survived from the 1st Class board in Queenstown? "
   ]
  },
  {
   "cell_type": "code",
   "execution_count": 221,
   "metadata": {},
   "outputs": [
    {
     "name": "stdout",
     "output_type": "stream",
     "text": [
      "There are 7 Adults Males that survived from the 2nd Class that board in Southampton \n"
     ]
    }
   ],
   "source": [
    "ffc_sur = df[(df.Sex == 'male') & (df.Survived == 1) & (df.Pclass == 2) & (df.Age > 18) & (df.Embarked == 'S')]\n",
    "third_class = ffc_sur\n",
    "qty = (len(third_class))\n",
    "qty = 'There are {} Adults Males that survived from the 2nd Class that board in Southampton '.format(qty)\n",
    "print(qty)"
   ]
  },
  {
   "cell_type": "markdown",
   "metadata": {},
   "source": [
    "#53 How many Adults Males that survived from the 3rd Class board in Queenstown?"
   ]
  },
  {
   "cell_type": "code",
   "execution_count": 222,
   "metadata": {},
   "outputs": [
    {
     "name": "stdout",
     "output_type": "stream",
     "text": [
      "There are 3 Adults Males that survived from the 3rd Class that board in Queenstown \n"
     ]
    }
   ],
   "source": [
    "ffc_sur = df[(df.Sex == 'male') & (df.Survived == 1) & (df.Pclass == 3) & (df.Age > 18) & (df.Embarked == 'Q')]\n",
    "third_class = ffc_sur\n",
    "qty = (len(third_class))\n",
    "qty = 'There are {} Adults Males that survived from the 3rd Class that board in Queenstown '.format(qty)\n",
    "print(qty)"
   ]
  },
  {
   "cell_type": "markdown",
   "metadata": {},
   "source": [
    "#54 How many Adults Males that survived from the 3rd Class board in Cherborough?"
   ]
  },
  {
   "cell_type": "code",
   "execution_count": 223,
   "metadata": {},
   "outputs": [
    {
     "name": "stdout",
     "output_type": "stream",
     "text": [
      "There are 8 Adults Males that survived from the 3rd Class that board in Cherborough \n"
     ]
    }
   ],
   "source": [
    "ffc_sur = df[(df.Sex == 'male') & (df.Survived == 1) & (df.Pclass == 3) & (df.Age > 18) & (df.Embarked == 'C')]\n",
    "third_class = ffc_sur\n",
    "qty = (len(third_class))\n",
    "qty = 'There are {} Adults Males that survived from the 3rd Class that board in Cherborough '.format(qty)\n",
    "print(qty)"
   ]
  },
  {
   "cell_type": "markdown",
   "metadata": {},
   "source": [
    "#55 How many Adults Males that survived from the 3rd Class board in Queenstown?"
   ]
  },
  {
   "cell_type": "code",
   "execution_count": 224,
   "metadata": {},
   "outputs": [
    {
     "name": "stdout",
     "output_type": "stream",
     "text": [
      "There are 25 Adults Males that survived from the 3rd Class that board in Southampton \n"
     ]
    }
   ],
   "source": [
    "ffc_sur = df[(df.Sex == 'male') & (df.Survived == 1) & (df.Pclass == 3) & (df.Age > 18) & (df.Embarked == 'S')]\n",
    "third_class = ffc_sur\n",
    "qty = (len(third_class))\n",
    "qty = 'There are {} Adults Males that survived from the 3rd Class that board in Southampton '.format(qty)\n",
    "print(qty)"
   ]
  },
  {
   "cell_type": "markdown",
   "metadata": {},
   "source": [
    "\n",
    "# CHILDREN"
   ]
  },
  {
   "cell_type": "markdown",
   "metadata": {},
   "source": [
    "# 1st Class\n",
    "#GIRLS "
   ]
  },
  {
   "cell_type": "markdown",
   "metadata": {},
   "source": [
    "#56 How many girls that survived from the 1st Class board in Queenstown? "
   ]
  },
  {
   "cell_type": "code",
   "execution_count": 225,
   "metadata": {},
   "outputs": [
    {
     "name": "stdout",
     "output_type": "stream",
     "text": [
      "There are 0 girls that survived from the 1st Class that board in Queenstown \n"
     ]
    }
   ],
   "source": [
    "ffc_sur = df[(df.Sex == 'female') & (df.Survived == 1) & (df.Pclass == 1) & (df.Age <= 18) & (df.Embarked == 'Q')]\n",
    "third_class = ffc_sur\n",
    "qty = (len(third_class))\n",
    "qty = 'There are {} girls that survived from the 1st Class that board in Queenstown '.format(qty)\n",
    "print(qty)"
   ]
  },
  {
   "cell_type": "markdown",
   "metadata": {},
   "source": [
    "#57 How many girls that survived from the 2nd Class board in Cherborough?"
   ]
  },
  {
   "cell_type": "code",
   "execution_count": 226,
   "metadata": {},
   "outputs": [
    {
     "name": "stdout",
     "output_type": "stream",
     "text": [
      "There are 3 girls that survived from the 2nd Class that board in Cherborough \n"
     ]
    }
   ],
   "source": [
    "ffc_sur = df[(df.Sex == 'female') & (df.Survived == 1) & (df.Pclass == 2) & (df.Age <= 18) & (df.Embarked == 'C')]\n",
    "third_class = ffc_sur\n",
    "qty = (len(third_class))\n",
    "qty = 'There are {} girls that survived from the 2nd Class that board in Cherborough '.format(qty)\n",
    "print(qty)"
   ]
  },
  {
   "cell_type": "markdown",
   "metadata": {},
   "source": [
    "#58 How many girls that survived from the 1st Class that in Queenstown? "
   ]
  },
  {
   "cell_type": "code",
   "execution_count": 227,
   "metadata": {},
   "outputs": [
    {
     "name": "stdout",
     "output_type": "stream",
     "text": [
      "There are 6 girls that survived from the 1st Class that board in Southampton \n"
     ]
    }
   ],
   "source": [
    "ffc_sur = df[(df.Sex == 'female') & (df.Survived == 1) & (df.Pclass == 1) & (df.Age <= 18) & (df.Embarked == 'S')]\n",
    "third_class = ffc_sur\n",
    "qty = (len(third_class))\n",
    "qty = 'There are {} girls that survived from the 1st Class that board in Southampton '.format(qty)\n",
    "print(qty)"
   ]
  },
  {
   "cell_type": "markdown",
   "metadata": {},
   "source": [
    "# 2nd\n",
    "#59 How many girls that survived from the 2nd Class board in Queenstown?"
   ]
  },
  {
   "cell_type": "code",
   "execution_count": 228,
   "metadata": {},
   "outputs": [
    {
     "name": "stdout",
     "output_type": "stream",
     "text": [
      "There are 0 girls that survived from the 2nd Class that board in Queenstown \n"
     ]
    }
   ],
   "source": [
    "ffc_sur = df[(df.Sex == 'female') & (df.Survived == 1) & (df.Pclass == 2) & (df.Age <= 18) & (df.Embarked == 'Q')]\n",
    "third_class = ffc_sur\n",
    "qty = (len(third_class))\n",
    "qty = 'There are {} girls that survived from the 2nd Class that board in Queenstown '.format(qty)\n",
    "print(qty)"
   ]
  },
  {
   "cell_type": "markdown",
   "metadata": {},
   "source": [
    "#60 How many girls that survived from the 2nd Class board in Cherborough?"
   ]
  },
  {
   "cell_type": "code",
   "execution_count": 229,
   "metadata": {},
   "outputs": [
    {
     "name": "stdout",
     "output_type": "stream",
     "text": [
      "There are 3 girls that survived from the 2nd Class that board in Cherborough \n"
     ]
    }
   ],
   "source": [
    "ffc_sur = df[(df.Sex == 'female') & (df.Survived == 1) & (df.Pclass == 2) & (df.Age <= 18) & (df.Embarked == 'C')]\n",
    "third_class = ffc_sur\n",
    "qty = (len(third_class))\n",
    "qty = 'There are {} girls that survived from the 2nd Class that board in Cherborough '.format(qty)\n",
    "print(qty)"
   ]
  },
  {
   "cell_type": "markdown",
   "metadata": {},
   "source": [
    "#61 How many girls that survived from the 2nd Class board in Southhampton?"
   ]
  },
  {
   "cell_type": "code",
   "execution_count": 230,
   "metadata": {},
   "outputs": [
    {
     "name": "stdout",
     "output_type": "stream",
     "text": [
      "There are 11 girls that survived from the 2nd Class that board in Southampton \n"
     ]
    }
   ],
   "source": [
    "ffc_sur = df[(df.Sex == 'female') & (df.Survived == 1) & (df.Pclass == 2) & (df.Age <= 18) & (df.Embarked == 'S')]\n",
    "third_class = ffc_sur\n",
    "qty = (len(third_class))\n",
    "qty = 'There are {} girls that survived from the 2nd Class that board in Southampton '.format(qty)\n",
    "print(qty)"
   ]
  },
  {
   "cell_type": "markdown",
   "metadata": {},
   "source": [
    "# 3rd\n",
    "#62 How many girls that survived from the 2nd Class that board in Queenstown? "
   ]
  },
  {
   "cell_type": "code",
   "execution_count": 231,
   "metadata": {},
   "outputs": [
    {
     "name": "stdout",
     "output_type": "stream",
     "text": [
      "There are 3 girls that survived from the 3rd Class that board in Queenstown \n"
     ]
    }
   ],
   "source": [
    "ffc_sur = df[(df.Sex == 'female') & (df.Survived == 1) & (df.Pclass == 3) & (df.Age <= 18) & (df.Embarked == 'Q')]\n",
    "third_class = ffc_sur\n",
    "qty = (len(third_class))\n",
    "qty = 'There are {} girls that survived from the 3rd Class that board in Queenstown '.format(qty)\n",
    "print(qty)"
   ]
  },
  {
   "cell_type": "markdown",
   "metadata": {},
   "source": [
    "#63 How many girls that survived from the 2nd Class board in Cherborough?"
   ]
  },
  {
   "cell_type": "code",
   "execution_count": 232,
   "metadata": {},
   "outputs": [
    {
     "name": "stdout",
     "output_type": "stream",
     "text": [
      "There are 9 girls that survived from the 3rd Class that board in Cherborough \n"
     ]
    }
   ],
   "source": [
    "ffc_sur = df[(df.Sex == 'female') & (df.Survived == 1) & (df.Pclass == 3) & (df.Age <= 18) & (df.Embarked == 'C')]\n",
    "third_class = ffc_sur\n",
    "qty = (len(third_class))\n",
    "qty = 'There are {} girls that survived from the 3rd Class that board in Cherborough '.format(qty)\n",
    "print(qty)  "
   ]
  },
  {
   "cell_type": "markdown",
   "metadata": {},
   "source": [
    "#64 How many girls that survived from the 2nd Class board in Queenstown?"
   ]
  },
  {
   "cell_type": "code",
   "execution_count": 234,
   "metadata": {},
   "outputs": [
    {
     "name": "stdout",
     "output_type": "stream",
     "text": [
      "There are 10 girls that survived from the 3rd Class that board in Southampton \n"
     ]
    }
   ],
   "source": [
    "\n",
    "ffc_sur = df[(df.Sex == 'female') & (df.Survived == 1) & (df.Pclass == 3) & (df.Age <= 18) & (df.Embarked == 'S')]\n",
    "third_class = ffc_sur\n",
    "qty = (len(third_class))\n",
    "qty = 'There are {} girls that survived from the 3rd Class that board in Southampton '.format(qty)\n",
    "print(qty)"
   ]
  },
  {
   "cell_type": "markdown",
   "metadata": {},
   "source": [
    " # CHILDREN  - BOYS\n",
    "\n",
    "# 1st\n"
   ]
  },
  {
   "cell_type": "markdown",
   "metadata": {},
   "source": [
    "#65 How many boys that survived from the 1st Class board in Queenstown?"
   ]
  },
  {
   "cell_type": "code",
   "execution_count": 235,
   "metadata": {},
   "outputs": [
    {
     "name": "stdout",
     "output_type": "stream",
     "text": [
      "There are 0 boys that survived from the 1st Class that board in Queenstown \n"
     ]
    }
   ],
   "source": [
    "ffc_sur = df[(df.Sex == 'male') & (df.Survived == 1) & (df.Pclass == 1) & (df.Age <= 18) & (df.Embarked == 'Q')]\n",
    "third_class = ffc_sur\n",
    "qty = (len(third_class))\n",
    "qty = 'There are {} boys that survived from the 1st Class that board in Queenstown '.format(qty)\n",
    "print(qty)"
   ]
  },
  {
   "cell_type": "markdown",
   "metadata": {},
   "source": [
    "#66 How many boys that survived from the 1st Class that in Cherborough?"
   ]
  },
  {
   "cell_type": "code",
   "execution_count": 236,
   "metadata": {},
   "outputs": [
    {
     "name": "stdout",
     "output_type": "stream",
     "text": [
      "There are 1 boys that survived from the 1st Class that board in Cherborough \n"
     ]
    }
   ],
   "source": [
    "ffc_sur = df[(df.Sex == 'male') & (df.Survived == 1) & (df.Pclass == 1) & (df.Age <= 18) & (df.Embarked == 'C')]\n",
    "third_class = ffc_sur\n",
    "qty = (len(third_class))\n",
    "qty = 'There are {} boys that survived from the 1st Class that board in Cherborough '.format(qty)\n",
    "print(qty)"
   ]
  },
  {
   "cell_type": "markdown",
   "metadata": {},
   "source": [
    "#67 How many boys that survived from the 1st Class board in Queenstown?"
   ]
  },
  {
   "cell_type": "code",
   "execution_count": 237,
   "metadata": {},
   "outputs": [
    {
     "name": "stdout",
     "output_type": "stream",
     "text": [
      "There are 3 boys that survived from the 1st Class that board in Southampton \n"
     ]
    }
   ],
   "source": [
    "ffc_sur = df[(df.Sex == 'male') & (df.Survived == 1) & (df.Pclass == 1) & (df.Age <= 18) & (df.Embarked == 'S')]\n",
    "third_class = ffc_sur\n",
    "qty = (len(third_class))\n",
    "qty = 'There are {} boys that survived from the 1st Class that board in Southampton '.format(qty)\n",
    "print(qty)"
   ]
  },
  {
   "cell_type": "markdown",
   "metadata": {},
   "source": [
    "# 2nd\n",
    "#68 How many boys that survived from the 2nd Class board in Queenstown? "
   ]
  },
  {
   "cell_type": "code",
   "execution_count": 238,
   "metadata": {},
   "outputs": [
    {
     "name": "stdout",
     "output_type": "stream",
     "text": [
      "There are 0 boys that survived from the 2nd Class that board in Queenstown \n"
     ]
    }
   ],
   "source": [
    "ffc_sur = df[(df.Sex == 'male') & (df.Survived == 1) & (df.Pclass == 2) & (df.Age <= 18) & (df.Embarked == 'Q')]\n",
    "third_class = ffc_sur\n",
    "qty = (len(third_class))\n",
    "qty = 'There are {} boys that survived from the 2nd Class that board in Queenstown '.format(qty)\n",
    "print(qty)"
   ]
  },
  {
   "cell_type": "markdown",
   "metadata": {},
   "source": [
    "#69 How many boys that survived from the 2nd Class that in Cherborough?"
   ]
  },
  {
   "cell_type": "code",
   "execution_count": 239,
   "metadata": {},
   "outputs": [
    {
     "name": "stdout",
     "output_type": "stream",
     "text": [
      "There are 1 boys that survived from the 2nd Class that board in Cherborough \n"
     ]
    }
   ],
   "source": [
    "ffc_sur = df[(df.Sex == 'male') & (df.Survived == 1) & (df.Pclass == 2) & (df.Age <= 18) & (df.Embarked == 'C')]\n",
    "third_class = ffc_sur\n",
    "qty = (len(third_class))\n",
    "qty = 'There are {} boys that survived from the 2nd Class that board in Cherborough '.format(qty)\n",
    "print(qty)"
   ]
  },
  {
   "cell_type": "markdown",
   "metadata": {},
   "source": [
    "#70 How many boys that survived from the 2nd Class board in Southhampton?"
   ]
  },
  {
   "cell_type": "code",
   "execution_count": 240,
   "metadata": {},
   "outputs": [
    {
     "name": "stdout",
     "output_type": "stream",
     "text": [
      "There are 8 boys that survived from the 2nd Class that board in Southampton \n"
     ]
    }
   ],
   "source": [
    "ffc_sur = df[(df.Sex == 'male') & (df.Survived == 1) & (df.Pclass == 2) & (df.Age <= 18) & (df.Embarked == 'S')]\n",
    "third_class = ffc_sur\n",
    "qty = (len(third_class))\n",
    "qty = 'There are {} boys that survived from the 2nd Class that board in Southampton '.format(qty)\n",
    "print(qty)"
   ]
  },
  {
   "cell_type": "markdown",
   "metadata": {},
   "source": [
    "# 3rd\n",
    "#71 How many boys that survived from the 2nd Class board in Queenstown? "
   ]
  },
  {
   "cell_type": "code",
   "execution_count": 241,
   "metadata": {},
   "outputs": [
    {
     "name": "stdout",
     "output_type": "stream",
     "text": [
      "There are 0 boys that survived from the 3rd Class that board in Queenstown \n"
     ]
    }
   ],
   "source": [
    "ffc_sur = df[(df.Sex == 'male') & (df.Survived == 1) & (df.Pclass == 3) & (df.Age <= 18) & (df.Embarked == 'Q')]\n",
    "third_class = ffc_sur\n",
    "qty = (len(third_class))\n",
    "qty = 'There are {} boys that survived from the 3rd Class that board in Queenstown '.format(qty)\n",
    "print(qty)"
   ]
  },
  {
   "cell_type": "markdown",
   "metadata": {},
   "source": [
    "#72 How many boys that survived from the 2nd Class that in Cherborough?"
   ]
  },
  {
   "cell_type": "code",
   "execution_count": 243,
   "metadata": {},
   "outputs": [
    {
     "name": "stdout",
     "output_type": "stream",
     "text": [
      "There are 2 boys that survived from the 3rd Class that board in Cherborough \n"
     ]
    }
   ],
   "source": [
    "ffc_sur = df[(df.Sex == 'male') & (df.Survived == 1) & (df.Pclass == 3) & (df.Age <= 18) & (df.Embarked == 'C')]\n",
    "third_class = ffc_sur\n",
    "qty = (len(third_class))\n",
    "qty = 'There are {} boys that survived from the 3rd Class that board in Cherborough '.format(qty)\n",
    "print(qty)"
   ]
  },
  {
   "cell_type": "markdown",
   "metadata": {},
   "source": [
    "#73 How many boys that survived from the 2nd Class board in Queenstown?"
   ]
  },
  {
   "cell_type": "code",
   "execution_count": 244,
   "metadata": {},
   "outputs": [
    {
     "name": "stdout",
     "output_type": "stream",
     "text": [
      "There are 9 boys that survived from the 3rd Class that board in Southampton \n"
     ]
    }
   ],
   "source": [
    "ffc_sur = df[(df.Sex == 'male') & (df.Survived == 1) & (df.Pclass == 3) & (df.Age <= 18) & (df.Embarked == 'S')]\n",
    "third_class = ffc_sur\n",
    "qty = (len(third_class))\n",
    "qty = 'There are {} boys that survived from the 3rd Class that board in Southampton '.format(qty)\n",
    "print(qty)"
   ]
  },
  {
   "cell_type": "markdown",
   "metadata": {},
   "source": [
    "#74 Qual a idade média dos sobreviventes do naufrágio?\n",
    "#75 Qual a idade média das vítimas do naufrágio?"
   ]
  },
  {
   "cell_type": "code",
   "execution_count": 245,
   "metadata": {},
   "outputs": [
    {
     "data": {
      "text/html": [
       "<div>\n",
       "<style scoped>\n",
       "    .dataframe tbody tr th:only-of-type {\n",
       "        vertical-align: middle;\n",
       "    }\n",
       "\n",
       "    .dataframe tbody tr th {\n",
       "        vertical-align: top;\n",
       "    }\n",
       "\n",
       "    .dataframe thead th {\n",
       "        text-align: right;\n",
       "    }\n",
       "</style>\n",
       "<table border=\"1\" class=\"dataframe\">\n",
       "  <thead>\n",
       "    <tr style=\"text-align: right;\">\n",
       "      <th></th>\n",
       "      <th>Age</th>\n",
       "    </tr>\n",
       "    <tr>\n",
       "      <th>Survived</th>\n",
       "      <th></th>\n",
       "    </tr>\n",
       "  </thead>\n",
       "  <tbody>\n",
       "    <tr>\n",
       "      <th>0</th>\n",
       "      <td>30.240437</td>\n",
       "    </tr>\n",
       "    <tr>\n",
       "      <th>1</th>\n",
       "      <td>28.300000</td>\n",
       "    </tr>\n",
       "  </tbody>\n",
       "</table>\n",
       "</div>"
      ],
      "text/plain": [
       "                Age\n",
       "Survived           \n",
       "0         30.240437\n",
       "1         28.300000"
      ]
     },
     "execution_count": 245,
     "metadata": {},
     "output_type": "execute_result"
    }
   ],
   "source": [
    "df.groupby(\"Survived\").agg({\"Age\" : np.mean})"
   ]
  },
  {
   "cell_type": "markdown",
   "metadata": {},
   "source": [
    "#76 Qual a idade do sobrevivente mais novo?\n",
    "#77 Qual a idade da vítima mais nova?"
   ]
  },
  {
   "cell_type": "code",
   "execution_count": 247,
   "metadata": {},
   "outputs": [
    {
     "data": {
      "text/html": [
       "<div>\n",
       "<style scoped>\n",
       "    .dataframe tbody tr th:only-of-type {\n",
       "        vertical-align: middle;\n",
       "    }\n",
       "\n",
       "    .dataframe tbody tr th {\n",
       "        vertical-align: top;\n",
       "    }\n",
       "\n",
       "    .dataframe thead th {\n",
       "        text-align: right;\n",
       "    }\n",
       "</style>\n",
       "<table border=\"1\" class=\"dataframe\">\n",
       "  <thead>\n",
       "    <tr style=\"text-align: right;\">\n",
       "      <th></th>\n",
       "      <th>Age</th>\n",
       "    </tr>\n",
       "    <tr>\n",
       "      <th>Survived</th>\n",
       "      <th></th>\n",
       "    </tr>\n",
       "  </thead>\n",
       "  <tbody>\n",
       "    <tr>\n",
       "      <th>0</th>\n",
       "      <td>1</td>\n",
       "    </tr>\n",
       "    <tr>\n",
       "      <th>1</th>\n",
       "      <td>0</td>\n",
       "    </tr>\n",
       "  </tbody>\n",
       "</table>\n",
       "</div>"
      ],
      "text/plain": [
       "          Age\n",
       "Survived     \n",
       "0           1\n",
       "1           0"
      ]
     },
     "execution_count": 247,
     "metadata": {},
     "output_type": "execute_result"
    }
   ],
   "source": [
    "df.groupby('Survived').agg({'Age' : np.min})"
   ]
  },
  {
   "cell_type": "markdown",
   "metadata": {},
   "source": [
    "#77 Qual a idade do sobrevivente mais idoso?\n",
    "#78 Qual a idade da vítima mais idosa?"
   ]
  },
  {
   "cell_type": "code",
   "execution_count": 248,
   "metadata": {},
   "outputs": [
    {
     "data": {
      "text/html": [
       "<div>\n",
       "<style scoped>\n",
       "    .dataframe tbody tr th:only-of-type {\n",
       "        vertical-align: middle;\n",
       "    }\n",
       "\n",
       "    .dataframe tbody tr th {\n",
       "        vertical-align: top;\n",
       "    }\n",
       "\n",
       "    .dataframe thead th {\n",
       "        text-align: right;\n",
       "    }\n",
       "</style>\n",
       "<table border=\"1\" class=\"dataframe\">\n",
       "  <thead>\n",
       "    <tr style=\"text-align: right;\">\n",
       "      <th></th>\n",
       "      <th>Age</th>\n",
       "    </tr>\n",
       "    <tr>\n",
       "      <th>Survived</th>\n",
       "      <th></th>\n",
       "    </tr>\n",
       "  </thead>\n",
       "  <tbody>\n",
       "    <tr>\n",
       "      <th>0</th>\n",
       "      <td>74</td>\n",
       "    </tr>\n",
       "    <tr>\n",
       "      <th>1</th>\n",
       "      <td>80</td>\n",
       "    </tr>\n",
       "  </tbody>\n",
       "</table>\n",
       "</div>"
      ],
      "text/plain": [
       "          Age\n",
       "Survived     \n",
       "0          74\n",
       "1          80"
      ]
     },
     "execution_count": 248,
     "metadata": {},
     "output_type": "execute_result"
    }
   ],
   "source": [
    "df.groupby(\"Survived\").agg({\"Age\" : np.max})"
   ]
  },
  {
   "cell_type": "markdown",
   "metadata": {},
   "source": [
    "#79 Qual a porcentagem de sobreviventes em cada classe do navio?"
   ]
  },
  {
   "cell_type": "code",
   "execution_count": 249,
   "metadata": {},
   "outputs": [
    {
     "data": {
      "text/plain": [
       "46.52777777777778"
      ]
     },
     "execution_count": 249,
     "metadata": {},
     "output_type": "execute_result"
    }
   ],
   "source": [
    "class_1 = df[(df.Survived == 1) & (df.Pclass == 1)]\n",
    "s_total = (len(class_1))\n",
    "per = s_total / 288 * 100\n",
    "per "
   ]
  },
  {
   "cell_type": "code",
   "execution_count": 250,
   "metadata": {},
   "outputs": [
    {
     "data": {
      "text/plain": [
       "30.208333333333332"
      ]
     },
     "execution_count": 250,
     "metadata": {},
     "output_type": "execute_result"
    }
   ],
   "source": [
    "class_2 = df[(df.Survived == 1) & (df.Pclass == 2)]\n",
    "s_total = (len(class_2))\n",
    "per = s_total / 288 * 100\n",
    "per "
   ]
  },
  {
   "cell_type": "code",
   "execution_count": 251,
   "metadata": {},
   "outputs": [
    {
     "data": {
      "text/plain": [
       "41.31944444444444"
      ]
     },
     "execution_count": 251,
     "metadata": {},
     "output_type": "execute_result"
    }
   ],
   "source": [
    "class_3 = df[(df.Survived == 1) & (df.Pclass == 3)]\n",
    "s_total = (len(class_3))\n",
    "per = s_total / 288 * 100\n",
    "per "
   ]
  },
  {
   "cell_type": "markdown",
   "metadata": {},
   "source": [
    "#80 Qual a porcentagem de sobreviventes entre as crianças?"
   ]
  },
  {
   "cell_type": "code",
   "execution_count": 51,
   "metadata": {},
   "outputs": [
    {
     "data": {
      "text/plain": [
       "50.35971223021583"
      ]
     },
     "execution_count": 51,
     "metadata": {},
     "output_type": "execute_result"
    }
   ],
   "source": [
    "children = df[(df.Survived == 1) & (df.Age <= 18)]\n",
    "s_total = (len(children))\n",
    "per = s_total / 139 * 100\n",
    "per "
   ]
  },
  {
   "cell_type": "markdown",
   "metadata": {},
   "source": [
    "#81 Qual a porcentagem de sobreviventes entre as mulheres?"
   ]
  },
  {
   "cell_type": "code",
   "execution_count": 50,
   "metadata": {},
   "outputs": [
    {
     "data": {
      "text/plain": [
       "78.01047120418848"
      ]
     },
     "execution_count": 50,
     "metadata": {},
     "output_type": "execute_result"
    }
   ],
   "source": [
    "women = df[(df.Survived == 1) & (df.Age > 18) & (df.Sex == 'female')]\n",
    "s_total = (len(women))\n",
    "per = s_total / 191 * 100\n",
    "per "
   ]
  },
  {
   "cell_type": "markdown",
   "metadata": {},
   "source": [
    "#82 Qual a porcentagem de sobreviventes entre os homens?"
   ]
  },
  {
   "cell_type": "code",
   "execution_count": 254,
   "metadata": {},
   "outputs": [
    {
     "data": {
      "text/plain": [
       "22.25130890052356"
      ]
     },
     "execution_count": 254,
     "metadata": {},
     "output_type": "execute_result"
    }
   ],
   "source": [
    "men = df[(df.Survived == 1) & (df.Age > 18) & (df.Sex == 'male')]\n",
    "s_total = (len(men))\n",
    "per = s_total / 382 * 100\n",
    "per "
   ]
  },
  {
   "cell_type": "markdown",
   "metadata": {},
   "source": [
    "#83 Qual a porcentagem de sobreviventes entre os idosos?"
   ]
  },
  {
   "cell_type": "code",
   "execution_count": 255,
   "metadata": {},
   "outputs": [
    {
     "name": "stdout",
     "output_type": "stream",
     "text": [
      "11\n"
     ]
    }
   ],
   "source": [
    "#calulate elderly\n",
    "old = df[(df.Age >= 65)]\n",
    "old = (len(old))\n",
    "print(old)"
   ]
  },
  {
   "cell_type": "code",
   "execution_count": 256,
   "metadata": {},
   "outputs": [
    {
     "data": {
      "text/plain": [
       "9.090909090909092"
      ]
     },
     "execution_count": 256,
     "metadata": {},
     "output_type": "execute_result"
    }
   ],
   "source": [
    "elderly = df[(df.Survived == 1) & (df.Age > 65) & (df.Sex == 'male')]\n",
    "s_total = (len(elderly))\n",
    "per = s_total / 11 * 100\n",
    "per "
   ]
  },
  {
   "cell_type": "markdown",
   "metadata": {},
   "source": [
    "#84 Qual a porcentagem de sobreviventes entre os que viajavam com a família?"
   ]
  },
  {
   "cell_type": "code",
   "execution_count": 257,
   "metadata": {},
   "outputs": [
    {
     "data": {
      "text/plain": [
       "37.84722222222222"
      ]
     },
     "execution_count": 257,
     "metadata": {},
     "output_type": "execute_result"
    }
   ],
   "source": [
    "had_family = df[(df.Survived == 1) & (df.Parch != 0)]\n",
    "s_total = (len(had_family))\n",
    "per = s_total / 288 * 100\n",
    "per "
   ]
  },
  {
   "cell_type": "markdown",
   "metadata": {},
   "source": [
    "#85 Qual a porcentagem de sobreviventes entre os que viajavam desacompanhados?"
   ]
  },
  {
   "cell_type": "code",
   "execution_count": 258,
   "metadata": {},
   "outputs": [
    {
     "data": {
      "text/plain": [
       "80.20833333333334"
      ]
     },
     "execution_count": 258,
     "metadata": {},
     "output_type": "execute_result"
    }
   ],
   "source": [
    "no_family = df[(df.Survived == 1) & (df.Parch == 0)]\n",
    "s_total = (len(no_family))\n",
    "per = s_total / 288 * 100\n",
    "per "
   ]
  },
  {
   "cell_type": "markdown",
   "metadata": {},
   "source": [
    "#Quais fatores contribuíram para a sobrevivência dos passageiros a bordo?"
   ]
  },
  {
   "cell_type": "markdown",
   "metadata": {},
   "source": [
    "#Embarcar em Southampton\n",
    "#Estar na primeira classe \n",
    "#Ser mulher ou criança\n",
    "#Não possuir parentes"
   ]
  },
  {
   "cell_type": "markdown",
   "metadata": {},
   "source": [
    "# Conclusões "
   ]
  },
  {
   "cell_type": "markdown",
   "metadata": {},
   "source": [
    "Pode-se verificar que os passageiros da Primeira classe tiveram a porcentagem maior\n",
    "de sobreviventes. \n",
    "Aqueles que não possuíam parentes também tiveram uma chance maior de sobreviverem, \n",
    "talvez devido ao fato que não tinham a preocupação de encontrar familiares no momento de angústia.\n",
    "Eles representam 80% dos sobreviventes contra 38% dos que tinham familiares a bordo.\n",
    "Das crianças a bordo, os sobreviventes foram 50% e as mulheres 78%."
   ]
  },
  {
   "cell_type": "markdown",
   "metadata": {},
   "source": [
    "# Limitações"
   ]
  },
  {
   "cell_type": "markdown",
   "metadata": {},
   "source": [
    "Encontrei diversos campos sem registros e conflitantes.\n",
    "Removi colunas que eram irrelevantes para a análise de dados, tais como: Cabin e Ticket."
   ]
  }
 ],
 "metadata": {
  "kernelspec": {
   "display_name": "Python 3",
   "language": "python",
   "name": "python3"
  },
  "language_info": {
   "codemirror_mode": {
    "name": "ipython",
    "version": 3
   },
   "file_extension": ".py",
   "mimetype": "text/x-python",
   "name": "python",
   "nbconvert_exporter": "python",
   "pygments_lexer": "ipython3",
   "version": "3.7.0"
  }
 },
 "nbformat": 4,
 "nbformat_minor": 2
}
